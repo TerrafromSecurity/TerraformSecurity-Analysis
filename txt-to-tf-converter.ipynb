{
 "cells": [
  {
   "cell_type": "code",
   "execution_count": 15,
   "metadata": {
    "collapsed": true
   },
   "outputs": [],
   "source": [
    "import os"
   ]
  },
  {
   "cell_type": "markdown",
   "source": [
    "Output from Codex, CodeParrot and GPT-2 models are in .txt format. This script simply converts them to a .tf file"
   ],
   "metadata": {
    "collapsed": false
   }
  },
  {
   "cell_type": "code",
   "execution_count": 22,
   "outputs": [],
   "source": [
    "txt_dir = \"/Users/eliasberger/Documents/Uni/4_Semester/Hyperautomation/Generating-Terraform-configuration-files/data/aws/gpt-2-large-txt\"\n",
    "output_dir = \"data/gpt-2-large-tf\""
   ],
   "metadata": {
    "collapsed": false
   }
  },
  {
   "cell_type": "code",
   "execution_count": 23,
   "outputs": [],
   "source": [
    "# listet die einzelnen task ordner (bucket, vpc, etc.)\n",
    "tasks = os.listdir(txt_dir)"
   ],
   "metadata": {
    "collapsed": false
   }
  },
  {
   "cell_type": "code",
   "execution_count": 24,
   "outputs": [],
   "source": [
    "for task in tasks:\n",
    "    # create a directory for the task\n",
    "    if not os.path.exists(output_dir + \"/\" + task):\n",
    "        os.mkdir(output_dir + \"/\" + task)\n",
    "\n",
    "    for filename in os.listdir(txt_dir + \"/\" + task):\n",
    "        if filename.endswith(\".txt\"):\n",
    "            # Load the text from the file\n",
    "            with open(os.path.join(txt_dir, task, filename), \"r\") as f:\n",
    "                text = f.read()\n",
    "\n",
    "            # Save the text to a binary file with a .tf extension\n",
    "            tf_filename = os.path.splitext(filename)[0] + \".tf\"\n",
    "            tf_path = os.path.join(output_dir + \"/\" + task, tf_filename)\n",
    "            with open(tf_path, \"wb\") as f:\n",
    "                f.write(text.encode(\"utf-8\"))"
   ],
   "metadata": {
    "collapsed": false
   }
  },
  {
   "cell_type": "code",
   "execution_count": null,
   "outputs": [],
   "source": [],
   "metadata": {
    "collapsed": false
   }
  }
 ],
 "metadata": {
  "kernelspec": {
   "display_name": "Python 3",
   "language": "python",
   "name": "python3"
  },
  "language_info": {
   "codemirror_mode": {
    "name": "ipython",
    "version": 2
   },
   "file_extension": ".py",
   "mimetype": "text/x-python",
   "name": "python",
   "nbconvert_exporter": "python",
   "pygments_lexer": "ipython2",
   "version": "2.7.6"
  }
 },
 "nbformat": 4,
 "nbformat_minor": 0
}
