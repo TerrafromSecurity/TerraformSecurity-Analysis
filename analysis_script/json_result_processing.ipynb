{
 "cells": [
  {
   "cell_type": "code",
   "execution_count": 4,
   "metadata": {
    "collapsed": true
   },
   "outputs": [],
   "source": [
    "import os\n",
    "import pandas as pd\n",
    "\n",
    "# get all json files that store our interactions with chatgpt\n",
    "# these are the final, optimized files\n",
    "json_files_final_run = [\n",
    "    os.path.join(dp, f) for dp, dn, fn in os.walk(\"../data/prompts_new_format\") for f in fn\n",
    "    if (\"final\" in f) and f.endswith(\".json\")]\n",
    "\n",
    "# json_files_final_run += [\n",
    "#     os.path.join(dp, f) for dp, dn, fn in os.walk(\"../data/prompts_not_used\") for f in fn\n",
    "#     if (\"final\" in f or \"try_4\" in f) and f.endswith(\".json\")]\n",
    "\n",
    "total_files = len(json_files_final_run)\n",
    "\n",
    "# read all the data into a pandas dataframe\n",
    "li = []\n",
    "for filename in json_files_final_run:\n",
    "    df = pd.read_json(filename)\n",
    "    li.append(df)\n",
    "frame_all_runs = pd.concat(li, axis=0, ignore_index=True)"
   ]
  },
  {
   "cell_type": "code",
   "execution_count": 5,
   "outputs": [
    {
     "data": {
      "text/plain": "                                                prompt  \\\n0    Can you create terraform configuration code in...   \n1    provider \"aws\" {\\n  region = \"us-west-2\"\\n}\\n\\...   \n2    Can you create terraform configuration code in...   \n3    Can you create terraform configuration code in...   \n4    terraform {\\n  required_providers {\\n    aws =...   \n..                                                 ...   \n272  Can you create terraform configuration code in...   \n273  provider \"aws\" {\\n  region = \"us-west-2\"\\n}\\n\\...   \n274  provider \"aws\" {\\n  region = \"us-west-2\"\\n}\\n\\...   \n275  provider \"aws\" {\\n  region = \"us-west-2\"\\n}\\n\\...   \n276  provider \"aws\" {\\n  region = \"us-west-2\"\\n}\\n\\...   \n\n                                                  code  \\\n0    provider \"aws\" {\\n  region = \"us-west-2\"\\n}\\n\\...   \n1    provider \"aws\" {\\n  region = \"us-west-2\"\\n}\\n\\...   \n2    provider \"aws\" {\\n  region = \"us-west-2\"\\n}\\n\\...   \n3    terraform {\\n  required_providers {\\n    aws =...   \n4                                 no code from chatgpt   \n..                                                 ...   \n272  provider \"aws\" {\\n  region = \"us-west-2\"\\n}\\n\\...   \n273  provider \"aws\" {\\n  region = \"us-west-2\"\\n}\\n\\...   \n274  provider \"aws\" {\\n  region = \"us-west-2\"\\n}\\n\\...   \n275  provider \"aws\" {\\n  region = \"us-west-2\"\\n}\\n\\...   \n276                               no code from chatgpt   \n\n                                                 tfsec number_of_issues  \n0    {\"results\": [{\"rule_id\": \"AVD-AWS-0131\", \"long...                2  \n1                                      {\"results\": []}                0  \n2                                      {\"results\": []}                0  \n3    {\"results\": [{\"rule_id\": \"AVD-AWS-0131\", \"long...                2  \n4                                                                        \n..                                                 ...              ...  \n272  {\"results\": [{\"rule_id\": \"AVD-AWS-0131\", \"long...                2  \n273  {\"results\": [{\"rule_id\": \"AVD-AWS-0131\", \"long...                3  \n274  {\"results\": [{\"rule_id\": \"AVD-AWS-0131\", \"long...                1  \n275  {\"results\": [{\"rule_id\": \"AVD-AWS-0131\", \"long...                1  \n276                                                                      \n\n[277 rows x 4 columns]",
      "text/html": "<div>\n<style scoped>\n    .dataframe tbody tr th:only-of-type {\n        vertical-align: middle;\n    }\n\n    .dataframe tbody tr th {\n        vertical-align: top;\n    }\n\n    .dataframe thead th {\n        text-align: right;\n    }\n</style>\n<table border=\"1\" class=\"dataframe\">\n  <thead>\n    <tr style=\"text-align: right;\">\n      <th></th>\n      <th>prompt</th>\n      <th>code</th>\n      <th>tfsec</th>\n      <th>number_of_issues</th>\n    </tr>\n  </thead>\n  <tbody>\n    <tr>\n      <th>0</th>\n      <td>Can you create terraform configuration code in...</td>\n      <td>provider \"aws\" {\\n  region = \"us-west-2\"\\n}\\n\\...</td>\n      <td>{\"results\": [{\"rule_id\": \"AVD-AWS-0131\", \"long...</td>\n      <td>2</td>\n    </tr>\n    <tr>\n      <th>1</th>\n      <td>provider \"aws\" {\\n  region = \"us-west-2\"\\n}\\n\\...</td>\n      <td>provider \"aws\" {\\n  region = \"us-west-2\"\\n}\\n\\...</td>\n      <td>{\"results\": []}</td>\n      <td>0</td>\n    </tr>\n    <tr>\n      <th>2</th>\n      <td>Can you create terraform configuration code in...</td>\n      <td>provider \"aws\" {\\n  region = \"us-west-2\"\\n}\\n\\...</td>\n      <td>{\"results\": []}</td>\n      <td>0</td>\n    </tr>\n    <tr>\n      <th>3</th>\n      <td>Can you create terraform configuration code in...</td>\n      <td>terraform {\\n  required_providers {\\n    aws =...</td>\n      <td>{\"results\": [{\"rule_id\": \"AVD-AWS-0131\", \"long...</td>\n      <td>2</td>\n    </tr>\n    <tr>\n      <th>4</th>\n      <td>terraform {\\n  required_providers {\\n    aws =...</td>\n      <td>no code from chatgpt</td>\n      <td></td>\n      <td></td>\n    </tr>\n    <tr>\n      <th>...</th>\n      <td>...</td>\n      <td>...</td>\n      <td>...</td>\n      <td>...</td>\n    </tr>\n    <tr>\n      <th>272</th>\n      <td>Can you create terraform configuration code in...</td>\n      <td>provider \"aws\" {\\n  region = \"us-west-2\"\\n}\\n\\...</td>\n      <td>{\"results\": [{\"rule_id\": \"AVD-AWS-0131\", \"long...</td>\n      <td>2</td>\n    </tr>\n    <tr>\n      <th>273</th>\n      <td>provider \"aws\" {\\n  region = \"us-west-2\"\\n}\\n\\...</td>\n      <td>provider \"aws\" {\\n  region = \"us-west-2\"\\n}\\n\\...</td>\n      <td>{\"results\": [{\"rule_id\": \"AVD-AWS-0131\", \"long...</td>\n      <td>3</td>\n    </tr>\n    <tr>\n      <th>274</th>\n      <td>provider \"aws\" {\\n  region = \"us-west-2\"\\n}\\n\\...</td>\n      <td>provider \"aws\" {\\n  region = \"us-west-2\"\\n}\\n\\...</td>\n      <td>{\"results\": [{\"rule_id\": \"AVD-AWS-0131\", \"long...</td>\n      <td>1</td>\n    </tr>\n    <tr>\n      <th>275</th>\n      <td>provider \"aws\" {\\n  region = \"us-west-2\"\\n}\\n\\...</td>\n      <td>provider \"aws\" {\\n  region = \"us-west-2\"\\n}\\n\\...</td>\n      <td>{\"results\": [{\"rule_id\": \"AVD-AWS-0131\", \"long...</td>\n      <td>1</td>\n    </tr>\n    <tr>\n      <th>276</th>\n      <td>provider \"aws\" {\\n  region = \"us-west-2\"\\n}\\n\\...</td>\n      <td>no code from chatgpt</td>\n      <td></td>\n      <td></td>\n    </tr>\n  </tbody>\n</table>\n<p>277 rows × 4 columns</p>\n</div>"
     },
     "execution_count": 5,
     "metadata": {},
     "output_type": "execute_result"
    }
   ],
   "source": [
    "frame_all_runs"
   ],
   "metadata": {
    "collapsed": false
   }
  },
  {
   "cell_type": "code",
   "execution_count": 6,
   "outputs": [
    {
     "name": "stdout",
     "output_type": "stream",
     "text": [
      "aws-ec2-enable-at-rest-encryption\n",
      "aws-ec2-enforce-http-token-imds\n",
      "aws-ec2-enable-at-rest-encryption\n",
      "aws-ec2-enforce-http-token-imds\n",
      "Expecting value: line 1 column 1 (char 0)\n",
      "aws-ec2-enable-at-rest-encryption\n",
      "aws-ec2-enforce-http-token-imds\n",
      "Expecting value: line 1 column 1 (char 0)\n",
      "aws-ec2-enable-at-rest-encryption\n",
      "aws-ec2-enforce-http-token-imds\n",
      "Expecting value: line 1 column 1 (char 0)\n",
      "aws-ec2-enable-at-rest-encryption\n",
      "aws-ec2-enforce-http-token-imds\n",
      "aws-s3-block-public-acls\n",
      "aws-s3-block-public-acls\n",
      "aws-s3-block-public-policy\n",
      "aws-s3-block-public-policy\n",
      "aws-s3-enable-bucket-encryption\n",
      "aws-s3-enable-bucket-encryption\n",
      "aws-s3-enable-bucket-logging\n",
      "aws-s3-enable-bucket-logging\n",
      "aws-s3-enable-versioning\n",
      "aws-s3-enable-versioning\n",
      "aws-s3-encryption-customer-key\n",
      "aws-s3-encryption-customer-key\n",
      "aws-s3-ignore-public-acls\n",
      "aws-s3-ignore-public-acls\n",
      "aws-s3-no-public-buckets\n",
      "aws-s3-no-public-buckets\n",
      "aws-s3-specify-public-access-block\n",
      "aws-s3-specify-public-access-block\n",
      "Expecting value: line 1 column 1 (char 0)\n",
      "aws-ec2-enable-at-rest-encryption\n",
      "aws-ec2-enforce-http-token-imds\n",
      "aws-ec2-enable-at-rest-encryption\n",
      "aws-ec2-enforce-http-token-imds\n",
      "aws-ec2-enable-at-rest-encryption\n",
      "aws-ec2-enforce-http-token-imds\n",
      "Expecting value: line 1 column 1 (char 0)\n",
      "aws-ec2-enable-at-rest-encryption\n",
      "aws-ec2-enforce-http-token-imds\n",
      "Expecting value: line 1 column 1 (char 0)\n",
      "aws-ec2-enable-at-rest-encryption\n",
      "aws-ec2-enforce-http-token-imds\n",
      "aws-ec2-enable-at-rest-encryption\n",
      "aws-ec2-enforce-http-token-imds\n",
      "aws-ec2-enable-at-rest-encryption\n",
      "aws-ec2-enforce-http-token-imds\n",
      "Expecting value: line 1 column 1 (char 0)\n",
      "aws-ec2-enable-at-rest-encryption\n",
      "aws-ec2-enforce-http-token-imds\n",
      "Expecting value: line 1 column 1 (char 0)\n",
      "aws-ec2-enable-at-rest-encryption\n",
      "aws-ec2-enforce-http-token-imds\n",
      "aws-ec2-enable-at-rest-encryption\n",
      "aws-ec2-enforce-http-token-imds\n",
      "aws-ec2-enable-at-rest-encryption\n",
      "aws-ec2-enforce-http-token-imds\n",
      "Expecting value: line 1 column 1 (char 0)\n",
      "aws-ec2-enable-at-rest-encryption\n",
      "aws-ec2-enforce-http-token-imds\n",
      "Expecting value: line 1 column 1 (char 0)\n",
      "aws-ec2-enable-at-rest-encryption\n",
      "aws-ec2-enforce-http-token-imds\n",
      "Expecting value: line 1 column 1 (char 0)\n",
      "aws-ec2-enable-at-rest-encryption\n",
      "aws-ec2-enforce-http-token-imds\n",
      "Expecting value: line 1 column 1 (char 0)\n",
      "aws-ec2-enable-at-rest-encryption\n",
      "aws-ec2-enforce-http-token-imds\n",
      "Expecting value: line 1 column 1 (char 0)\n",
      "aws-ec2-enable-at-rest-encryption\n",
      "aws-ec2-enforce-http-token-imds\n",
      "Expecting value: line 1 column 1 (char 0)\n",
      "aws-ec2-enable-at-rest-encryption\n",
      "aws-ec2-enforce-http-token-imds\n",
      "Expecting value: line 1 column 1 (char 0)\n",
      "aws-s3-block-public-acls\n",
      "aws-s3-block-public-policy\n",
      "aws-s3-enable-bucket-encryption\n",
      "aws-s3-enable-bucket-logging\n",
      "aws-s3-enable-versioning\n",
      "aws-s3-encryption-customer-key\n",
      "aws-s3-ignore-public-acls\n",
      "aws-s3-no-public-buckets\n",
      "aws-s3-specify-public-access-block\n",
      "aws-s3-block-public-acls\n",
      "aws-s3-block-public-policy\n",
      "aws-s3-enable-bucket-logging\n",
      "aws-s3-encryption-customer-key\n",
      "aws-s3-ignore-public-acls\n",
      "aws-s3-no-public-buckets\n",
      "aws-s3-specify-public-access-block\n",
      "Expecting value: line 1 column 1 (char 0)\n"
     ]
    },
    {
     "ename": "JSONDecodeError",
     "evalue": "Expecting value: line 1 column 1 (char 0)",
     "output_type": "error",
     "traceback": [
      "\u001B[0;31m---------------------------------------------------------------------------\u001B[0m",
      "\u001B[0;31mJSONDecodeError\u001B[0m                           Traceback (most recent call last)",
      "Cell \u001B[0;32mIn[6], line 16\u001B[0m\n\u001B[1;32m     11\u001B[0m iteration_final[\u001B[38;5;124m\"\u001B[39m\u001B[38;5;124mnumber_of_issues\u001B[39m\u001B[38;5;124m\"\u001B[39m] \u001B[38;5;241m=\u001B[39m \u001B[38;5;124m\"\u001B[39m\u001B[38;5;124mX\u001B[39m\u001B[38;5;124m\"\u001B[39m \u001B[38;5;28;01mif\u001B[39;00m iteration_final[\u001B[38;5;124m\"\u001B[39m\u001B[38;5;124mnumber_of_issues\u001B[39m\u001B[38;5;124m\"\u001B[39m] \u001B[38;5;241m==\u001B[39m \u001B[38;5;124m\"\u001B[39m\u001B[38;5;124m\"\u001B[39m \u001B[38;5;28;01melse\u001B[39;00m iteration_final[\u001B[38;5;124m\"\u001B[39m\u001B[38;5;124mnumber_of_issues\u001B[39m\u001B[38;5;124m\"\u001B[39m]\n\u001B[1;32m     12\u001B[0m issues_change_dict\u001B[38;5;241m.\u001B[39mappend(\n\u001B[1;32m     13\u001B[0m     {\u001B[38;5;124m\"\u001B[39m\u001B[38;5;124mbefore\u001B[39m\u001B[38;5;124m\"\u001B[39m: iteration_0[\u001B[38;5;124m\"\u001B[39m\u001B[38;5;124mnumber_of_issues\u001B[39m\u001B[38;5;124m\"\u001B[39m],\n\u001B[1;32m     14\u001B[0m      \u001B[38;5;124m\"\u001B[39m\u001B[38;5;124mafter\u001B[39m\u001B[38;5;124m\"\u001B[39m: iteration_final[\u001B[38;5;124m\"\u001B[39m\u001B[38;5;124mnumber_of_issues\u001B[39m\u001B[38;5;124m\"\u001B[39m]}\n\u001B[1;32m     15\u001B[0m )\n\u001B[0;32m---> 16\u001B[0m tf_sec_result_json \u001B[38;5;241m=\u001B[39m \u001B[43mjson\u001B[49m\u001B[38;5;241;43m.\u001B[39;49m\u001B[43mloads\u001B[49m\u001B[43m(\u001B[49m\u001B[43miteration_0\u001B[49m\u001B[43m[\u001B[49m\u001B[38;5;124;43m\"\u001B[39;49m\u001B[38;5;124;43mtfsec\u001B[39;49m\u001B[38;5;124;43m\"\u001B[39;49m\u001B[43m]\u001B[49m\u001B[43m)\u001B[49m\n\u001B[1;32m     17\u001B[0m \u001B[38;5;28;01mif\u001B[39;00m tf_sec_result_json \u001B[38;5;129;01mis\u001B[39;00m \u001B[38;5;129;01mnot\u001B[39;00m \u001B[38;5;28;01mNone\u001B[39;00m:\n\u001B[1;32m     18\u001B[0m     \u001B[38;5;28;01mif\u001B[39;00m tf_sec_result_json[\u001B[38;5;124m\"\u001B[39m\u001B[38;5;124mresults\u001B[39m\u001B[38;5;124m\"\u001B[39m]:\n",
      "File \u001B[0;32m/opt/homebrew/Cellar/python@3.10/3.10.9/Frameworks/Python.framework/Versions/3.10/lib/python3.10/json/__init__.py:346\u001B[0m, in \u001B[0;36mloads\u001B[0;34m(s, cls, object_hook, parse_float, parse_int, parse_constant, object_pairs_hook, **kw)\u001B[0m\n\u001B[1;32m    341\u001B[0m     s \u001B[38;5;241m=\u001B[39m s\u001B[38;5;241m.\u001B[39mdecode(detect_encoding(s), \u001B[38;5;124m'\u001B[39m\u001B[38;5;124msurrogatepass\u001B[39m\u001B[38;5;124m'\u001B[39m)\n\u001B[1;32m    343\u001B[0m \u001B[38;5;28;01mif\u001B[39;00m (\u001B[38;5;28mcls\u001B[39m \u001B[38;5;129;01mis\u001B[39;00m \u001B[38;5;28;01mNone\u001B[39;00m \u001B[38;5;129;01mand\u001B[39;00m object_hook \u001B[38;5;129;01mis\u001B[39;00m \u001B[38;5;28;01mNone\u001B[39;00m \u001B[38;5;129;01mand\u001B[39;00m\n\u001B[1;32m    344\u001B[0m         parse_int \u001B[38;5;129;01mis\u001B[39;00m \u001B[38;5;28;01mNone\u001B[39;00m \u001B[38;5;129;01mand\u001B[39;00m parse_float \u001B[38;5;129;01mis\u001B[39;00m \u001B[38;5;28;01mNone\u001B[39;00m \u001B[38;5;129;01mand\u001B[39;00m\n\u001B[1;32m    345\u001B[0m         parse_constant \u001B[38;5;129;01mis\u001B[39;00m \u001B[38;5;28;01mNone\u001B[39;00m \u001B[38;5;129;01mand\u001B[39;00m object_pairs_hook \u001B[38;5;129;01mis\u001B[39;00m \u001B[38;5;28;01mNone\u001B[39;00m \u001B[38;5;129;01mand\u001B[39;00m \u001B[38;5;129;01mnot\u001B[39;00m kw):\n\u001B[0;32m--> 346\u001B[0m     \u001B[38;5;28;01mreturn\u001B[39;00m \u001B[43m_default_decoder\u001B[49m\u001B[38;5;241;43m.\u001B[39;49m\u001B[43mdecode\u001B[49m\u001B[43m(\u001B[49m\u001B[43ms\u001B[49m\u001B[43m)\u001B[49m\n\u001B[1;32m    347\u001B[0m \u001B[38;5;28;01mif\u001B[39;00m \u001B[38;5;28mcls\u001B[39m \u001B[38;5;129;01mis\u001B[39;00m \u001B[38;5;28;01mNone\u001B[39;00m:\n\u001B[1;32m    348\u001B[0m     \u001B[38;5;28mcls\u001B[39m \u001B[38;5;241m=\u001B[39m JSONDecoder\n",
      "File \u001B[0;32m/opt/homebrew/Cellar/python@3.10/3.10.9/Frameworks/Python.framework/Versions/3.10/lib/python3.10/json/decoder.py:337\u001B[0m, in \u001B[0;36mJSONDecoder.decode\u001B[0;34m(self, s, _w)\u001B[0m\n\u001B[1;32m    332\u001B[0m \u001B[38;5;28;01mdef\u001B[39;00m \u001B[38;5;21mdecode\u001B[39m(\u001B[38;5;28mself\u001B[39m, s, _w\u001B[38;5;241m=\u001B[39mWHITESPACE\u001B[38;5;241m.\u001B[39mmatch):\n\u001B[1;32m    333\u001B[0m     \u001B[38;5;124;03m\"\"\"Return the Python representation of ``s`` (a ``str`` instance\u001B[39;00m\n\u001B[1;32m    334\u001B[0m \u001B[38;5;124;03m    containing a JSON document).\u001B[39;00m\n\u001B[1;32m    335\u001B[0m \n\u001B[1;32m    336\u001B[0m \u001B[38;5;124;03m    \"\"\"\u001B[39;00m\n\u001B[0;32m--> 337\u001B[0m     obj, end \u001B[38;5;241m=\u001B[39m \u001B[38;5;28;43mself\u001B[39;49m\u001B[38;5;241;43m.\u001B[39;49m\u001B[43mraw_decode\u001B[49m\u001B[43m(\u001B[49m\u001B[43ms\u001B[49m\u001B[43m,\u001B[49m\u001B[43m \u001B[49m\u001B[43midx\u001B[49m\u001B[38;5;241;43m=\u001B[39;49m\u001B[43m_w\u001B[49m\u001B[43m(\u001B[49m\u001B[43ms\u001B[49m\u001B[43m,\u001B[49m\u001B[43m \u001B[49m\u001B[38;5;241;43m0\u001B[39;49m\u001B[43m)\u001B[49m\u001B[38;5;241;43m.\u001B[39;49m\u001B[43mend\u001B[49m\u001B[43m(\u001B[49m\u001B[43m)\u001B[49m\u001B[43m)\u001B[49m\n\u001B[1;32m    338\u001B[0m     end \u001B[38;5;241m=\u001B[39m _w(s, end)\u001B[38;5;241m.\u001B[39mend()\n\u001B[1;32m    339\u001B[0m     \u001B[38;5;28;01mif\u001B[39;00m end \u001B[38;5;241m!=\u001B[39m \u001B[38;5;28mlen\u001B[39m(s):\n",
      "File \u001B[0;32m/opt/homebrew/Cellar/python@3.10/3.10.9/Frameworks/Python.framework/Versions/3.10/lib/python3.10/json/decoder.py:355\u001B[0m, in \u001B[0;36mJSONDecoder.raw_decode\u001B[0;34m(self, s, idx)\u001B[0m\n\u001B[1;32m    353\u001B[0m     obj, end \u001B[38;5;241m=\u001B[39m \u001B[38;5;28mself\u001B[39m\u001B[38;5;241m.\u001B[39mscan_once(s, idx)\n\u001B[1;32m    354\u001B[0m \u001B[38;5;28;01mexcept\u001B[39;00m \u001B[38;5;167;01mStopIteration\u001B[39;00m \u001B[38;5;28;01mas\u001B[39;00m err:\n\u001B[0;32m--> 355\u001B[0m     \u001B[38;5;28;01mraise\u001B[39;00m JSONDecodeError(\u001B[38;5;124m\"\u001B[39m\u001B[38;5;124mExpecting value\u001B[39m\u001B[38;5;124m\"\u001B[39m, s, err\u001B[38;5;241m.\u001B[39mvalue) \u001B[38;5;28;01mfrom\u001B[39;00m \u001B[38;5;28mNone\u001B[39m\n\u001B[1;32m    356\u001B[0m \u001B[38;5;28;01mreturn\u001B[39;00m obj, end\n",
      "\u001B[0;31mJSONDecodeError\u001B[0m: Expecting value: line 1 column 1 (char 0)"
     ]
    }
   ],
   "source": [
    "import json\n",
    "issues_change_dict = []\n",
    "security_rule_ids_before = []\n",
    "security_rule_ids_after = []\n",
    "security_rule_per_file_before = []\n",
    "security_rule_per_file_after = []\n",
    "for file in json_files_final_run:\n",
    "    json_data = json.load(open(file))\n",
    "    iteration_0 = json_data[0]\n",
    "    iteration_final = json_data[-1]\n",
    "    iteration_final[\"number_of_issues\"] = \"X\" if iteration_final[\"number_of_issues\"] == \"\" else iteration_final[\"number_of_issues\"]\n",
    "    issues_change_dict.append(\n",
    "        {\"before\": iteration_0[\"number_of_issues\"],\n",
    "         \"after\": iteration_final[\"number_of_issues\"]}\n",
    "    )\n",
    "    tf_sec_result_json = json.loads(iteration_0[\"tfsec\"])\n",
    "    if tf_sec_result_json is not None:\n",
    "        if tf_sec_result_json[\"results\"]:\n",
    "            for result in tf_sec_result_json[\"results\"]:\n",
    "                if \"long_id\" in result:\n",
    "                    print(result[\"long_id\"])\n",
    "                    security_rule_per_file_before.append(\n",
    "                        {\"file\": file, \"rule_id\": result[\"long_id\"]}\n",
    "                    )\n",
    "                    security_rule_ids_before += [result[\"long_id\"]]\n",
    "    try:\n",
    "        tf_sec_result_json = json.loads(iteration_final[\"tfsec\"])\n",
    "        if tf_sec_result_json is not None:\n",
    "            if tf_sec_result_json[\"results\"]:\n",
    "                for result in tf_sec_result_json[\"results\"]:\n",
    "                    if \"long_id\" in result:\n",
    "                        print(result[\"long_id\"])\n",
    "                        security_rule_per_file_after.append(\n",
    "                        {\"file\": file, \"rule_id\": result[\"long_id\"]}\n",
    "                        )\n",
    "                        security_rule_ids_after+= [result[\"long_id\"]]\n",
    "    except Exception as e:\n",
    "        print(e)\n",
    "        continue"
   ],
   "metadata": {
    "collapsed": false
   }
  },
  {
   "cell_type": "code",
   "execution_count": 7,
   "outputs": [
    {
     "data": {
      "text/plain": "[{'before': '2', 'after': '0'},\n {'before': '0', 'after': '0'},\n {'before': '2', 'after': 'X'},\n {'before': '2', 'after': 'X'},\n {'before': '2', 'after': 'X'},\n {'before': '20', 'after': 'X'},\n {'before': '2', 'after': '0'},\n {'before': '2', 'after': '0'},\n {'before': '2', 'after': 'X'},\n {'before': '2', 'after': 'X'},\n {'before': '2', 'after': '0'},\n {'before': '2', 'after': '0'},\n {'before': '2', 'after': 'X'},\n {'before': '2', 'after': 'X'},\n {'before': '2', 'after': '0'},\n {'before': '2', 'after': '0'},\n {'before': '2', 'after': 'X'},\n {'before': '2', 'after': 'X'},\n {'before': '2', 'after': 'X'},\n {'before': '2', 'after': 'X'},\n {'before': '2', 'after': 'X'},\n {'before': '2', 'after': 'X'},\n {'before': '2', 'after': 'X'},\n {'before': '9', 'after': '0'},\n {'before': '7', 'after': 'X'},\n {'before': 'X', 'after': 'X'}]"
     },
     "execution_count": 7,
     "metadata": {},
     "output_type": "execute_result"
    }
   ],
   "source": [
    "issues_change_dict"
   ],
   "metadata": {
    "collapsed": false
   }
  },
  {
   "cell_type": "code",
   "execution_count": 8,
   "outputs": [],
   "source": [
    "import pandas as pd\n",
    "df = pd.DataFrame(issues_change_dict)"
   ],
   "metadata": {
    "collapsed": false
   }
  },
  {
   "cell_type": "code",
   "execution_count": 9,
   "outputs": [
    {
     "data": {
      "text/plain": "   before after\n0       2     0\n1       0     0\n2       2     X\n3       2     X\n4       2     X\n5      20     X\n6       2     0\n7       2     0\n8       2     X\n9       2     X\n10      2     0\n11      2     0\n12      2     X\n13      2     X\n14      2     0\n15      2     0\n16      2     X\n17      2     X\n18      2     X\n19      2     X\n20      2     X\n21      2     X\n22      2     X\n23      9     0\n24      7     X\n25      X     X",
      "text/html": "<div>\n<style scoped>\n    .dataframe tbody tr th:only-of-type {\n        vertical-align: middle;\n    }\n\n    .dataframe tbody tr th {\n        vertical-align: top;\n    }\n\n    .dataframe thead th {\n        text-align: right;\n    }\n</style>\n<table border=\"1\" class=\"dataframe\">\n  <thead>\n    <tr style=\"text-align: right;\">\n      <th></th>\n      <th>before</th>\n      <th>after</th>\n    </tr>\n  </thead>\n  <tbody>\n    <tr>\n      <th>0</th>\n      <td>2</td>\n      <td>0</td>\n    </tr>\n    <tr>\n      <th>1</th>\n      <td>0</td>\n      <td>0</td>\n    </tr>\n    <tr>\n      <th>2</th>\n      <td>2</td>\n      <td>X</td>\n    </tr>\n    <tr>\n      <th>3</th>\n      <td>2</td>\n      <td>X</td>\n    </tr>\n    <tr>\n      <th>4</th>\n      <td>2</td>\n      <td>X</td>\n    </tr>\n    <tr>\n      <th>5</th>\n      <td>20</td>\n      <td>X</td>\n    </tr>\n    <tr>\n      <th>6</th>\n      <td>2</td>\n      <td>0</td>\n    </tr>\n    <tr>\n      <th>7</th>\n      <td>2</td>\n      <td>0</td>\n    </tr>\n    <tr>\n      <th>8</th>\n      <td>2</td>\n      <td>X</td>\n    </tr>\n    <tr>\n      <th>9</th>\n      <td>2</td>\n      <td>X</td>\n    </tr>\n    <tr>\n      <th>10</th>\n      <td>2</td>\n      <td>0</td>\n    </tr>\n    <tr>\n      <th>11</th>\n      <td>2</td>\n      <td>0</td>\n    </tr>\n    <tr>\n      <th>12</th>\n      <td>2</td>\n      <td>X</td>\n    </tr>\n    <tr>\n      <th>13</th>\n      <td>2</td>\n      <td>X</td>\n    </tr>\n    <tr>\n      <th>14</th>\n      <td>2</td>\n      <td>0</td>\n    </tr>\n    <tr>\n      <th>15</th>\n      <td>2</td>\n      <td>0</td>\n    </tr>\n    <tr>\n      <th>16</th>\n      <td>2</td>\n      <td>X</td>\n    </tr>\n    <tr>\n      <th>17</th>\n      <td>2</td>\n      <td>X</td>\n    </tr>\n    <tr>\n      <th>18</th>\n      <td>2</td>\n      <td>X</td>\n    </tr>\n    <tr>\n      <th>19</th>\n      <td>2</td>\n      <td>X</td>\n    </tr>\n    <tr>\n      <th>20</th>\n      <td>2</td>\n      <td>X</td>\n    </tr>\n    <tr>\n      <th>21</th>\n      <td>2</td>\n      <td>X</td>\n    </tr>\n    <tr>\n      <th>22</th>\n      <td>2</td>\n      <td>X</td>\n    </tr>\n    <tr>\n      <th>23</th>\n      <td>9</td>\n      <td>0</td>\n    </tr>\n    <tr>\n      <th>24</th>\n      <td>7</td>\n      <td>X</td>\n    </tr>\n    <tr>\n      <th>25</th>\n      <td>X</td>\n      <td>X</td>\n    </tr>\n  </tbody>\n</table>\n</div>"
     },
     "execution_count": 9,
     "metadata": {},
     "output_type": "execute_result"
    }
   ],
   "source": [
    "df"
   ],
   "metadata": {
    "collapsed": false
   }
  },
  {
   "cell_type": "code",
   "execution_count": 10,
   "outputs": [],
   "source": [
    "df.to_csv(path_or_buf=\"../data/number_of_issues_before_after.csv\", header=True)"
   ],
   "metadata": {
    "collapsed": false
   }
  },
  {
   "cell_type": "code",
   "execution_count": 11,
   "outputs": [],
   "source": [
    "df_issues_before = pd.DataFrame(security_rule_ids_before, columns=[\"rule_id\"])\n",
    "df_issues_before[\"count\"] = 1\n",
    "df_issues_after = pd.DataFrame(security_rule_ids_after, columns=[\"rule_id\"])\n",
    "df_issues_after[\"count\"] = 1"
   ],
   "metadata": {
    "collapsed": false
   }
  },
  {
   "cell_type": "code",
   "execution_count": 12,
   "outputs": [
    {
     "data": {
      "text/plain": "Empty DataFrame\nColumns: [rule_id, count]\nIndex: []",
      "text/html": "<div>\n<style scoped>\n    .dataframe tbody tr th:only-of-type {\n        vertical-align: middle;\n    }\n\n    .dataframe tbody tr th {\n        vertical-align: top;\n    }\n\n    .dataframe thead th {\n        text-align: right;\n    }\n</style>\n<table border=\"1\" class=\"dataframe\">\n  <thead>\n    <tr style=\"text-align: right;\">\n      <th></th>\n      <th>rule_id</th>\n      <th>count</th>\n    </tr>\n  </thead>\n  <tbody>\n  </tbody>\n</table>\n</div>"
     },
     "execution_count": 12,
     "metadata": {},
     "output_type": "execute_result"
    }
   ],
   "source": [
    "df_issues_after.groupby(by=\"rule_id\").sum().sort_values(\"count\").reset_index()"
   ],
   "metadata": {
    "collapsed": false
   }
  },
  {
   "cell_type": "code",
   "execution_count": 13,
   "outputs": [
    {
     "data": {
      "text/plain": "                               rule_id  count\n0      aws-s3-enable-bucket-encryption      3\n1             aws-s3-enable-versioning      3\n2             aws-s3-block-public-acls      4\n3           aws-s3-block-public-policy      4\n4         aws-s3-enable-bucket-logging      4\n5       aws-s3-encryption-customer-key      4\n6            aws-s3-ignore-public-acls      4\n7             aws-s3-no-public-buckets      4\n8   aws-s3-specify-public-access-block      4\n9    aws-ec2-enable-at-rest-encryption     22\n10     aws-ec2-enforce-http-token-imds     22",
      "text/html": "<div>\n<style scoped>\n    .dataframe tbody tr th:only-of-type {\n        vertical-align: middle;\n    }\n\n    .dataframe tbody tr th {\n        vertical-align: top;\n    }\n\n    .dataframe thead th {\n        text-align: right;\n    }\n</style>\n<table border=\"1\" class=\"dataframe\">\n  <thead>\n    <tr style=\"text-align: right;\">\n      <th></th>\n      <th>rule_id</th>\n      <th>count</th>\n    </tr>\n  </thead>\n  <tbody>\n    <tr>\n      <th>0</th>\n      <td>aws-s3-enable-bucket-encryption</td>\n      <td>3</td>\n    </tr>\n    <tr>\n      <th>1</th>\n      <td>aws-s3-enable-versioning</td>\n      <td>3</td>\n    </tr>\n    <tr>\n      <th>2</th>\n      <td>aws-s3-block-public-acls</td>\n      <td>4</td>\n    </tr>\n    <tr>\n      <th>3</th>\n      <td>aws-s3-block-public-policy</td>\n      <td>4</td>\n    </tr>\n    <tr>\n      <th>4</th>\n      <td>aws-s3-enable-bucket-logging</td>\n      <td>4</td>\n    </tr>\n    <tr>\n      <th>5</th>\n      <td>aws-s3-encryption-customer-key</td>\n      <td>4</td>\n    </tr>\n    <tr>\n      <th>6</th>\n      <td>aws-s3-ignore-public-acls</td>\n      <td>4</td>\n    </tr>\n    <tr>\n      <th>7</th>\n      <td>aws-s3-no-public-buckets</td>\n      <td>4</td>\n    </tr>\n    <tr>\n      <th>8</th>\n      <td>aws-s3-specify-public-access-block</td>\n      <td>4</td>\n    </tr>\n    <tr>\n      <th>9</th>\n      <td>aws-ec2-enable-at-rest-encryption</td>\n      <td>22</td>\n    </tr>\n    <tr>\n      <th>10</th>\n      <td>aws-ec2-enforce-http-token-imds</td>\n      <td>22</td>\n    </tr>\n  </tbody>\n</table>\n</div>"
     },
     "execution_count": 13,
     "metadata": {},
     "output_type": "execute_result"
    }
   ],
   "source": [
    "df_issues_before.groupby(by=\"rule_id\").sum().sort_values(\"count\").reset_index()"
   ],
   "metadata": {
    "collapsed": false
   }
  },
  {
   "cell_type": "code",
   "execution_count": 14,
   "outputs": [],
   "source": [
    "df = pd.DataFrame(security_rule_per_file_before, columns=[\"file\", \"rule_id\"])\n",
    "df.to_csv(path_or_buf=\"../data/issues_per_file_non_optimized.csv\")"
   ],
   "metadata": {
    "collapsed": false
   }
  },
  {
   "cell_type": "code",
   "execution_count": 15,
   "outputs": [],
   "source": [
    "df = pd.DataFrame(security_rule_per_file_after, columns=[\"file\", \"rule_id\"])\n",
    "df.to_csv(path_or_buf=\"../data/issues_per_file_optimized.csv\")"
   ],
   "metadata": {
    "collapsed": false
   }
  },
  {
   "cell_type": "code",
   "execution_count": null,
   "outputs": [],
   "source": [],
   "metadata": {
    "collapsed": false
   }
  }
 ],
 "metadata": {
  "kernelspec": {
   "display_name": "Python 3",
   "language": "python",
   "name": "python3"
  },
  "language_info": {
   "codemirror_mode": {
    "name": "ipython",
    "version": 2
   },
   "file_extension": ".py",
   "mimetype": "text/x-python",
   "name": "python",
   "nbconvert_exporter": "python",
   "pygments_lexer": "ipython2",
   "version": "2.7.6"
  }
 },
 "nbformat": 4,
 "nbformat_minor": 0
}
