{
 "cells": [
  {
   "cell_type": "code",
   "execution_count": 2,
   "metadata": {
    "collapsed": true
   },
   "outputs": [],
   "source": [
    "import os\n",
    "import pandas as pd\n",
    "\n",
    "# get all json files that store our interactions with chatgpt\n",
    "# these are the final, optimized files\n",
    "json_files_final_run = [\n",
    "    os.path.join(dp, f) for dp, dn, fn in os.walk(\"../data/prompts_new_format\") for f in fn\n",
    "    if (\"final\" in f) and f.endswith(\".json\")]\n",
    "\n",
    "total_files = len(json_files_final_run)\n",
    "\n",
    "# read all the data into a pandas dataframe\n",
    "li = []\n",
    "for filename in json_files_final_run:\n",
    "    df = pd.read_json(filename)\n",
    "    li.append(df)\n",
    "frame_all_runs = pd.concat(li, axis=0, ignore_index=True)"
   ]
  },
  {
   "cell_type": "code",
   "execution_count": 3,
   "outputs": [
    {
     "data": {
      "text/plain": "                                                prompt  \\\n0    Can you create terraform configuration code in...   \n1    terraform {\\n  required_providers {\\n    aws =...   \n2    Can you create terraform configuration code in...   \n3    provider \"aws\" {\\n  region = \"us-west-2\"\\n}\\n\\...   \n4    Can you create terraform configuration code in...   \n..                                                 ...   \n127  Can you create terraform configuration code in...   \n128  provider \"aws\" {\\n  region = \"us-west-2\"\\n}\\n\\...   \n129  provider \"aws\" {\\n  region = \"us-west-2\"\\n}\\n\\...   \n130  provider \"aws\" {\\n  region = \"us-west-2\"\\n}\\n\\...   \n131  provider \"aws\" {\\n  region = \"us-west-2\"\\n}\\n\\...   \n\n                                                  code  \\\n0    terraform {\\n  required_providers {\\n    aws =...   \n1                                 no code from chatgpt   \n2    provider \"aws\" {\\n  region = \"us-west-2\"\\n}\\n\\...   \n3    provider \"aws\" {\\n  region = \"us-west-2\"\\n}\\n\\...   \n4    provider \"aws\" {\\n  region = \"us-west-2\"\\n}\\n\\...   \n..                                                 ...   \n127  provider \"aws\" {\\n  region = \"us-west-2\"\\n}\\n\\...   \n128  provider \"aws\" {\\n  region = \"us-west-2\"\\n}\\n\\...   \n129  provider \"aws\" {\\n  region = \"us-west-2\"\\n}\\n\\...   \n130  provider \"aws\" {\\n  region = \"us-west-2\"\\n}\\n\\...   \n131                               no code from chatgpt   \n\n                                                 tfsec number_of_issues  \n0    {\"results\": [{\"rule_id\": \"AVD-AWS-0131\", \"long...                2  \n1                                                                        \n2    {\"results\": [{\"rule_id\": \"AVD-AWS-0131\", \"long...                2  \n3                                    {\"results\": null}                0  \n4    {\"results\": [{\"rule_id\": \"AVD-AWS-0131\", \"long...                2  \n..                                                 ...              ...  \n127  {\"results\": [{\"rule_id\": \"AVD-AWS-0131\", \"long...                2  \n128  {\"results\": [{\"rule_id\": \"AVD-AWS-0131\", \"long...                3  \n129  {\"results\": [{\"rule_id\": \"AVD-AWS-0131\", \"long...                1  \n130  {\"results\": [{\"rule_id\": \"AVD-AWS-0131\", \"long...                1  \n131                                                                      \n\n[132 rows x 4 columns]",
      "text/html": "<div>\n<style scoped>\n    .dataframe tbody tr th:only-of-type {\n        vertical-align: middle;\n    }\n\n    .dataframe tbody tr th {\n        vertical-align: top;\n    }\n\n    .dataframe thead th {\n        text-align: right;\n    }\n</style>\n<table border=\"1\" class=\"dataframe\">\n  <thead>\n    <tr style=\"text-align: right;\">\n      <th></th>\n      <th>prompt</th>\n      <th>code</th>\n      <th>tfsec</th>\n      <th>number_of_issues</th>\n    </tr>\n  </thead>\n  <tbody>\n    <tr>\n      <th>0</th>\n      <td>Can you create terraform configuration code in...</td>\n      <td>terraform {\\n  required_providers {\\n    aws =...</td>\n      <td>{\"results\": [{\"rule_id\": \"AVD-AWS-0131\", \"long...</td>\n      <td>2</td>\n    </tr>\n    <tr>\n      <th>1</th>\n      <td>terraform {\\n  required_providers {\\n    aws =...</td>\n      <td>no code from chatgpt</td>\n      <td></td>\n      <td></td>\n    </tr>\n    <tr>\n      <th>2</th>\n      <td>Can you create terraform configuration code in...</td>\n      <td>provider \"aws\" {\\n  region = \"us-west-2\"\\n}\\n\\...</td>\n      <td>{\"results\": [{\"rule_id\": \"AVD-AWS-0131\", \"long...</td>\n      <td>2</td>\n    </tr>\n    <tr>\n      <th>3</th>\n      <td>provider \"aws\" {\\n  region = \"us-west-2\"\\n}\\n\\...</td>\n      <td>provider \"aws\" {\\n  region = \"us-west-2\"\\n}\\n\\...</td>\n      <td>{\"results\": null}</td>\n      <td>0</td>\n    </tr>\n    <tr>\n      <th>4</th>\n      <td>Can you create terraform configuration code in...</td>\n      <td>provider \"aws\" {\\n  region = \"us-west-2\"\\n}\\n\\...</td>\n      <td>{\"results\": [{\"rule_id\": \"AVD-AWS-0131\", \"long...</td>\n      <td>2</td>\n    </tr>\n    <tr>\n      <th>...</th>\n      <td>...</td>\n      <td>...</td>\n      <td>...</td>\n      <td>...</td>\n    </tr>\n    <tr>\n      <th>127</th>\n      <td>Can you create terraform configuration code in...</td>\n      <td>provider \"aws\" {\\n  region = \"us-west-2\"\\n}\\n\\...</td>\n      <td>{\"results\": [{\"rule_id\": \"AVD-AWS-0131\", \"long...</td>\n      <td>2</td>\n    </tr>\n    <tr>\n      <th>128</th>\n      <td>provider \"aws\" {\\n  region = \"us-west-2\"\\n}\\n\\...</td>\n      <td>provider \"aws\" {\\n  region = \"us-west-2\"\\n}\\n\\...</td>\n      <td>{\"results\": [{\"rule_id\": \"AVD-AWS-0131\", \"long...</td>\n      <td>3</td>\n    </tr>\n    <tr>\n      <th>129</th>\n      <td>provider \"aws\" {\\n  region = \"us-west-2\"\\n}\\n\\...</td>\n      <td>provider \"aws\" {\\n  region = \"us-west-2\"\\n}\\n\\...</td>\n      <td>{\"results\": [{\"rule_id\": \"AVD-AWS-0131\", \"long...</td>\n      <td>1</td>\n    </tr>\n    <tr>\n      <th>130</th>\n      <td>provider \"aws\" {\\n  region = \"us-west-2\"\\n}\\n\\...</td>\n      <td>provider \"aws\" {\\n  region = \"us-west-2\"\\n}\\n\\...</td>\n      <td>{\"results\": [{\"rule_id\": \"AVD-AWS-0131\", \"long...</td>\n      <td>1</td>\n    </tr>\n    <tr>\n      <th>131</th>\n      <td>provider \"aws\" {\\n  region = \"us-west-2\"\\n}\\n\\...</td>\n      <td>no code from chatgpt</td>\n      <td></td>\n      <td></td>\n    </tr>\n  </tbody>\n</table>\n<p>132 rows × 4 columns</p>\n</div>"
     },
     "execution_count": 3,
     "metadata": {},
     "output_type": "execute_result"
    }
   ],
   "source": [
    "j"
   ],
   "metadata": {
    "collapsed": false
   }
  },
  {
   "cell_type": "code",
   "execution_count": 5,
   "outputs": [
    {
     "data": {
      "text/plain": "['../data/prompts_new_format/prompt4/abbruch1/prompt_4_final_1.json',\n '../data/prompts_new_format/prompt4/versuch8/prompt_4_final_1.json',\n '../data/prompts_new_format/prompt4/versuch6/prompt_4_final_2.json',\n '../data/prompts_new_format/prompt4/versuch7/prompt_4_final_1.json',\n '../data/prompts_new_format/prompt4/versuch9/prompt_4_final_4.json',\n '../data/prompts_new_format/prompt4/versuch10/prompt_4_final_1.json',\n '../data/prompts_new_format/prompt4/versuch2/prompt_4_final_2.json',\n '../data/prompts_new_format/prompt4/versuch5/prompt_4_final_1.json',\n '../data/prompts_new_format/prompt4/versuch4/prompt_4_final_4.json',\n '../data/prompts_new_format/prompt3/versuch8/prompt_3_final_4.json',\n '../data/prompts_new_format/prompt3/versuch9/prompt_3_final_4.json',\n '../data/prompts_new_format/prompt3/versuch2/prompt_3_final_1.json',\n '../data/prompts_new_format/prompt3/versuch4/prompt_3_final_2.json',\n '../data/prompts_new_format/prompt3/versuch3/prompt_3_final_4.json',\n '../data/prompts_new_format/prompt2/versuch8/prompt_2_final_0.json',\n '../data/prompts_new_format/prompt2/versuch6/prompt_2_final_0.json',\n '../data/prompts_new_format/prompt2/versuch1/prompt_2_final_0.json',\n '../data/prompts_new_format/prompt2/versuch7/prompt_2_final_0.json',\n '../data/prompts_new_format/prompt2/versuch9/prompt_2_final_0.json',\n '../data/prompts_new_format/prompt2/versuch10/prompt_2_final_0.json',\n '../data/prompts_new_format/prompt2/versuch2/prompt_2_final_0.json',\n '../data/prompts_new_format/prompt2/versuch5/prompt_2_final_1.json',\n '../data/prompts_new_format/prompt2/versuch4/prompt_2_final_1.json',\n '../data/prompts_new_format/prompt2/versuch3/prompt_2_final_0.json',\n '../data/prompts_new_format/prompt5/versuch8/prompt_5_final_1.json',\n '../data/prompts_new_format/prompt5/versuch6/prompt_5_final_2.json',\n '../data/prompts_new_format/prompt5/versuch1/prompt_5_final_1.json',\n '../data/prompts_new_format/prompt5/versuch7/prompt_5_final_2.json',\n '../data/prompts_new_format/prompt5/versuch9/prompt_5_final_1.json',\n '../data/prompts_new_format/prompt5/versuch10/prompt_5_final_4.json',\n '../data/prompts_new_format/prompt5/versuch2/prompt_5_final_1.json',\n '../data/prompts_new_format/prompt5/versuch5/prompt_5_final_1.json',\n '../data/prompts_new_format/prompt5/versuch4/prompt_5_final_1.json',\n '../data/prompts_new_format/prompt5/versuch3/prompt_5_final_1.json',\n '../data/prompts_new_format/prompt6/versuch8/prompt_6_final_1.json',\n '../data/prompts_new_format/prompt6/versuch6/prompt_6_final_2.json',\n '../data/prompts_new_format/prompt6/versuch1/prompt_6_final_1.json',\n '../data/prompts_new_format/prompt6/versuch7/prompt_6_final_3.json',\n '../data/prompts_new_format/prompt6/versuch9/prompt_6_final_2.json',\n '../data/prompts_new_format/prompt6/versuch10/prompt_6_final_1.json',\n '../data/prompts_new_format/prompt6/versuch2/prompt_6_final_2.json',\n '../data/prompts_new_format/prompt6/versuch5/prompt_6_final_2.json',\n '../data/prompts_new_format/prompt6/versuch4/prompt_6_final_3.json',\n '../data/prompts_new_format/prompt6/versuch3/prompt_6_final_2.json',\n '../data/prompts_new_format/prompt1/versuch8/prompt_1_final_1.json',\n '../data/prompts_new_format/prompt1/versuch6/prompt_1_final_1.json',\n '../data/prompts_new_format/prompt1/versuch1/prompt_1_final_2.json',\n '../data/prompts_new_format/prompt1/versuch9/prompt_1_final_1.json',\n '../data/prompts_new_format/prompt1/versuch10/prompt_1_final_1.json',\n '../data/prompts_new_format/prompt1/versuch2/prompt_1_final_3.json',\n '../data/prompts_new_format/prompt1/versuch5/prompt_1_final_4.json']"
     },
     "execution_count": 5,
     "metadata": {},
     "output_type": "execute_result"
    }
   ],
   "source": [
    "json_files_final_run"
   ],
   "metadata": {
    "collapsed": false
   }
  },
  {
   "cell_type": "code",
   "execution_count": 13,
   "outputs": [],
   "source": [
    "import json\n",
    "issues_change_dict = []\n",
    "for file in json_files_final_run:\n",
    "    json_data = json.load(open(file))\n",
    "    iteration_0 = json_data[0]\n",
    "    iteration_final = json_data[-1]\n",
    "    iteration_final[\"number_of_issues\"] = \"X\" if iteration_final[\"number_of_issues\"] == \"\" else iteration_final[\"number_of_issues\"]\n",
    "    issues_change_dict.append(\n",
    "        {\"before\": iteration_0[\"number_of_issues\"],\n",
    "         \"after\": iteration_final[\"number_of_issues\"]}\n",
    "    )"
   ],
   "metadata": {
    "collapsed": false
   }
  },
  {
   "cell_type": "code",
   "execution_count": 14,
   "outputs": [
    {
     "data": {
      "text/plain": "[{'before': '2', 'after': 'X'},\n {'before': '2', 'after': '0'},\n {'before': '2', 'after': 'X'},\n {'before': '2', 'after': '0'},\n {'before': '2', 'after': 'X'},\n {'before': '2', 'after': '0'},\n {'before': '2', 'after': 'X'},\n {'before': '2', 'after': 'X'},\n {'before': '2', 'after': 'X'},\n {'before': '9', 'after': 'X'},\n {'before': '9', 'after': 'X'},\n {'before': '9', 'after': 'X'},\n {'before': '9', 'after': 'X'},\n {'before': '9', 'after': 'X'},\n {'before': '0', 'after': '0'},\n {'before': '0', 'after': '0'},\n {'before': '0', 'after': '0'},\n {'before': '0', 'after': '0'},\n {'before': '0', 'after': '0'},\n {'before': '0', 'after': '0'},\n {'before': '0', 'after': '0'},\n {'before': '2', 'after': 'X'},\n {'before': '2', 'after': 'X'},\n {'before': '0', 'after': '0'},\n {'before': '4', 'after': 'X'},\n {'before': '2', 'after': '0'},\n {'before': '2', 'after': 'X'},\n {'before': '2', 'after': 'X'},\n {'before': '2', 'after': 'X'},\n {'before': '2', 'after': 'X'},\n {'before': '4', 'after': 'X'},\n {'before': '8', 'after': 'X'},\n {'before': '2', 'after': 'X'},\n {'before': '8', 'after': 'X'},\n {'before': '2', 'after': '0'},\n {'before': '2', 'after': 'X'},\n {'before': '2', 'after': '0'},\n {'before': '2', 'after': '0'},\n {'before': '2', 'after': 'X'},\n {'before': '2', 'after': '0'},\n {'before': '2', 'after': 'X'},\n {'before': '2', 'after': 'X'},\n {'before': '2', 'after': 'X'},\n {'before': '2', 'after': 'X'},\n {'before': '2', 'after': '0'},\n {'before': '2', 'after': '0'},\n {'before': '2', 'after': '0'},\n {'before': '2', 'after': '0'},\n {'before': '2', 'after': 'X'},\n {'before': '2', 'after': 'X'},\n {'before': '2', 'after': 'X'}]"
     },
     "execution_count": 14,
     "metadata": {},
     "output_type": "execute_result"
    }
   ],
   "source": [
    "issues_change_dict"
   ],
   "metadata": {
    "collapsed": false
   }
  },
  {
   "cell_type": "code",
   "execution_count": null,
   "outputs": [],
   "source": [],
   "metadata": {
    "collapsed": false
   }
  }
 ],
 "metadata": {
  "kernelspec": {
   "display_name": "Python 3",
   "language": "python",
   "name": "python3"
  },
  "language_info": {
   "codemirror_mode": {
    "name": "ipython",
    "version": 2
   },
   "file_extension": ".py",
   "mimetype": "text/x-python",
   "name": "python",
   "nbconvert_exporter": "python",
   "pygments_lexer": "ipython2",
   "version": "2.7.6"
  }
 },
 "nbformat": 4,
 "nbformat_minor": 0
}
