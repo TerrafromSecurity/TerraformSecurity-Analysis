{
 "cells": [
  {
   "cell_type": "code",
   "execution_count": 19,
   "metadata": {
    "collapsed": true
   },
   "outputs": [],
   "source": [
    "import os\n",
    "import pandas as pd\n",
    "\n",
    "# get all json files that store our interactions with chatgpt\n",
    "# these are the final, optimized files\n",
    "json_files_final_run = [\n",
    "    os.path.join(dp, f) for dp, dn, fn in os.walk(\"../data/prompts_new_format\") for f in fn\n",
    "    if (\"final\" in f or \"try_4\" in f) and f.endswith(\".json\")]\n",
    "\n",
    "json_files_final_run += [\n",
    "    os.path.join(dp, f) for dp, dn, fn in os.walk(\"../data/prompts_not_used\") for f in fn\n",
    "    if (\"final\" in f or \"try_4\" in f) and f.endswith(\".json\")]\n",
    "\n",
    "total_files = len(json_files_final_run)\n",
    "\n",
    "# read all the data into a pandas dataframe\n",
    "li = []\n",
    "for filename in json_files_final_run:\n",
    "    df = pd.read_json(filename)\n",
    "    li.append(df)\n",
    "frame_all_runs = pd.concat(li, axis=0, ignore_index=True)"
   ]
  },
  {
   "cell_type": "code",
   "execution_count": 20,
   "outputs": [
    {
     "data": {
      "text/plain": "['../data/prompts_new_format/prompt4/abbruch1/prompt_4_final_1.json',\n '../data/prompts_new_format/prompt4/versuch8/prompt_4_final_1.json',\n '../data/prompts_new_format/prompt4/versuch6/prompt_4_final_2.json',\n '../data/prompts_new_format/prompt4/versuch1/prompt_4_try_4.json',\n '../data/prompts_new_format/prompt4/versuch7/prompt_4_final_1.json',\n '../data/prompts_new_format/prompt4/versuch9/prompt_4_final_4.json',\n '../data/prompts_new_format/prompt4/versuch10/prompt_4_final_1.json',\n '../data/prompts_new_format/prompt4/versuch2/prompt_4_final_2.json',\n '../data/prompts_new_format/prompt4/versuch5/prompt_4_final_1.json',\n '../data/prompts_new_format/prompt4/versuch4/prompt_4_final_4.json',\n '../data/prompts_new_format/prompt4/versuch3/prompt_4_try_4.json',\n '../data/prompts_new_format/prompt3/versuch8/prompt_3_final_4.json',\n '../data/prompts_new_format/prompt3/versuch6/prompt_3_try_4.json',\n '../data/prompts_new_format/prompt3/versuch1/prompt_3_try_4.json',\n '../data/prompts_new_format/prompt3/versuch7/prompt_3_try_4.json',\n '../data/prompts_new_format/prompt3/versuch9/prompt_3_final_4.json',\n '../data/prompts_new_format/prompt3/versuch10/prompt_3_try_4.json',\n '../data/prompts_new_format/prompt3/versuch2/prompt_3_final_1.json',\n '../data/prompts_new_format/prompt3/versuch5/prompt_3_try_4.json',\n '../data/prompts_new_format/prompt3/versuch4/prompt_3_final_2.json',\n '../data/prompts_new_format/prompt3/versuch3/prompt_3_final_4.json',\n '../data/prompts_new_format/prompt2/versuch8/prompt_2_final_0.json',\n '../data/prompts_new_format/prompt2/versuch6/prompt_2_final_0.json',\n '../data/prompts_new_format/prompt2/versuch1/prompt_2_final_0.json',\n '../data/prompts_new_format/prompt2/versuch7/prompt_2_final_0.json',\n '../data/prompts_new_format/prompt2/versuch9/prompt_2_final_0.json',\n '../data/prompts_new_format/prompt2/versuch10/prompt_2_final_0.json',\n '../data/prompts_new_format/prompt2/versuch2/prompt_2_final_0.json',\n '../data/prompts_new_format/prompt2/versuch5/prompt_2_final_1.json',\n '../data/prompts_new_format/prompt2/versuch4/prompt_2_final_1.json',\n '../data/prompts_new_format/prompt2/versuch3/prompt_2_final_0.json',\n '../data/prompts_new_format/prompt5/versuch8/prompt_5_final_1.json',\n '../data/prompts_new_format/prompt5/versuch6/prompt_5_final_2.json',\n '../data/prompts_new_format/prompt5/versuch1/prompt_5_final_1.json',\n '../data/prompts_new_format/prompt5/versuch7/prompt_5_final_2.json',\n '../data/prompts_new_format/prompt5/versuch9/prompt_5_final_1.json',\n '../data/prompts_new_format/prompt5/versuch10/prompt_5_final_4.json',\n '../data/prompts_new_format/prompt5/versuch2/prompt_5_final_1.json',\n '../data/prompts_new_format/prompt5/versuch5/prompt_5_final_1.json',\n '../data/prompts_new_format/prompt5/versuch4/prompt_5_final_1.json',\n '../data/prompts_new_format/prompt5/versuch3/prompt_5_final_1.json',\n '../data/prompts_new_format/prompt6/versuch8/prompt_6_final_1.json',\n '../data/prompts_new_format/prompt6/versuch6/prompt_6_final_2.json',\n '../data/prompts_new_format/prompt6/versuch1/prompt_6_final_1.json',\n '../data/prompts_new_format/prompt6/versuch7/prompt_6_final_3.json',\n '../data/prompts_new_format/prompt6/versuch9/prompt_6_final_2.json',\n '../data/prompts_new_format/prompt6/versuch10/prompt_6_final_1.json',\n '../data/prompts_new_format/prompt6/versuch2/prompt_6_final_2.json',\n '../data/prompts_new_format/prompt6/versuch5/prompt_6_final_2.json',\n '../data/prompts_new_format/prompt6/versuch4/prompt_6_final_3.json',\n '../data/prompts_new_format/prompt6/versuch3/prompt_6_final_2.json',\n '../data/prompts_new_format/prompt1/versuch8/prompt_1_final_1.json',\n '../data/prompts_new_format/prompt1/versuch6/prompt_1_final_1.json',\n '../data/prompts_new_format/prompt1/versuch1/prompt_1_final_2.json',\n '../data/prompts_new_format/prompt1/versuch7/prompt_1_try_4.json',\n '../data/prompts_new_format/prompt1/versuch9/prompt_1_final_1.json',\n '../data/prompts_new_format/prompt1/versuch10/prompt_1_final_1.json',\n '../data/prompts_new_format/prompt1/versuch2/prompt_1_final_3.json',\n '../data/prompts_new_format/prompt1/versuch5/prompt_1_final_4.json',\n '../data/prompts_new_format/prompt1/versuch4/prompt_1_try_4.json',\n '../data/prompts_new_format/prompt1/versuch3/prompt_1_try_4.json',\n '../data/prompts_not_used/prompt_2_versuch_1/prompt_2_final_3.json',\n '../data/prompts_not_used/prompt_6_versuch_4/prompt_6_try_4.json',\n '../data/prompts_not_used/prompt_6_versuch_3/prompt_6_try_4.json',\n '../data/prompts_not_used/prompt_6_versuch_2/prompt_6_try_4.json',\n '../data/prompts_not_used/prompt_1_versuch_3/prompt_1_final_3.json',\n '../data/prompts_not_used/prompt_1_versuch_2/prompt_1_final_1.json',\n '../data/prompts_not_used/prompt_5_versuch_6/prompt_5_final_4.json',\n '../data/prompts_not_used/prompt_5_versuch_1/prompt_5_final_3.json',\n '../data/prompts_not_used/prompt_2_versuch_3/prompt_2_final_1.json',\n '../data/prompts_not_used/prompt_2_versuch_4/prompt_2_final_3.json',\n '../data/prompts_not_used/prompt_2_versuch_5/prompt_2_try_4.json',\n '../data/prompts_not_used/prompt_2_versuch_2/prompt_2_final_1.json',\n '../data/prompts_not_used/prompt9/prompt_9_versuch_1/prompt_9_final_3.json',\n '../data/prompts_not_used/prompt_4_versuch_4/prompt_4_try_4.json',\n '../data/prompts_not_used/prompt_4_versuch_2/prompt_4_final_2.json',\n '../data/prompts_not_used/prompt_6_versuch_1/prompt_6_try_4.json',\n '../data/prompts_not_used/prompt_4_versuch_5/prompt_4_final_1.json',\n '../data/prompts_not_used/prompt8/versuch1/prompt_8_final_1.json',\n '../data/prompts_not_used/prompt8/versuch2/prompt_8_final_1.json',\n '../data/prompts_not_used/prompt8/versuch5/prompt_8_final_2.json',\n '../data/prompts_not_used/prompt8/versuch4/prompt_8_final_2.json',\n '../data/prompts_not_used/prompt8/versuch3/prompt_8_final_2.json',\n '../data/prompts_not_used/prompt_3_versuch_3/prompt_3_try_4.json',\n '../data/prompts_not_used/prompt_3_versuch_4/prompt_3_try_4.json',\n '../data/prompts_not_used/prompt_1_versuch_1/prompt_1_final_1.json',\n '../data/prompts_not_used/prompt_3_versuch_5/prompt_3_try_4.json',\n '../data/prompts_not_used/prompt_3_versuch_2/prompt_3_final_2.json',\n '../data/prompts_not_used/prompt_5_versuch_4/prompt_5_final_2.json',\n '../data/prompts_not_used/prompt_5_versuch_3/prompt_5_final_1.json',\n '../data/prompts_not_used/prompt_5_versuch_2/prompt_5_try_4.json',\n '../data/prompts_not_used/prompt_5_versuch_5/prompt_5_final_3.json']"
     },
     "execution_count": 20,
     "metadata": {},
     "output_type": "execute_result"
    }
   ],
   "source": [
    "json_files_final_run"
   ],
   "metadata": {
    "collapsed": false
   }
  },
  {
   "cell_type": "code",
   "execution_count": 21,
   "outputs": [],
   "source": [
    "import json\n",
    "issues_change_dict = []\n",
    "for file in json_files_final_run:\n",
    "    json_data = json.load(open(file))\n",
    "    iteration_0 = json_data[0]\n",
    "    iteration_final = json_data[-1]\n",
    "    iteration_final[\"number_of_issues\"] = \"X\" if iteration_final[\"number_of_issues\"] == \"\" else iteration_final[\"number_of_issues\"]\n",
    "    issues_change_dict.append(\n",
    "        {\"before\": iteration_0[\"number_of_issues\"],\n",
    "         \"after\": iteration_final[\"number_of_issues\"]}\n",
    "    )"
   ],
   "metadata": {
    "collapsed": false
   }
  },
  {
   "cell_type": "code",
   "execution_count": 22,
   "outputs": [
    {
     "data": {
      "text/plain": "[{'before': '2', 'after': 'X'},\n {'before': '2', 'after': '0'},\n {'before': '2', 'after': 'X'},\n {'before': '2', 'after': '3'},\n {'before': '2', 'after': '0'},\n {'before': '2', 'after': 'X'},\n {'before': '2', 'after': '0'},\n {'before': '2', 'after': 'X'},\n {'before': '2', 'after': 'X'},\n {'before': '2', 'after': 'X'},\n {'before': '2', 'after': '1'},\n {'before': '9', 'after': 'X'},\n {'before': '9', 'after': '16'},\n {'before': '9', 'after': '5'},\n {'before': '9', 'after': '6'},\n {'before': '9', 'after': 'X'},\n {'before': '9', 'after': '5'},\n {'before': '9', 'after': 'X'},\n {'before': '9', 'after': '5'},\n {'before': '9', 'after': 'X'},\n {'before': '9', 'after': 'X'},\n {'before': '0', 'after': '0'},\n {'before': '0', 'after': '0'},\n {'before': '0', 'after': '0'},\n {'before': '0', 'after': '0'},\n {'before': '0', 'after': '0'},\n {'before': '0', 'after': '0'},\n {'before': '0', 'after': '0'},\n {'before': '2', 'after': 'X'},\n {'before': '2', 'after': 'X'},\n {'before': '0', 'after': '0'},\n {'before': '4', 'after': 'X'},\n {'before': '2', 'after': '0'},\n {'before': '2', 'after': 'X'},\n {'before': '2', 'after': 'X'},\n {'before': '2', 'after': 'X'},\n {'before': '2', 'after': 'X'},\n {'before': '4', 'after': 'X'},\n {'before': '8', 'after': 'X'},\n {'before': '2', 'after': 'X'},\n {'before': '8', 'after': 'X'},\n {'before': '2', 'after': '0'},\n {'before': '2', 'after': 'X'},\n {'before': '2', 'after': '0'},\n {'before': '2', 'after': '0'},\n {'before': '2', 'after': 'X'},\n {'before': '2', 'after': '0'},\n {'before': '2', 'after': 'X'},\n {'before': '2', 'after': 'X'},\n {'before': '2', 'after': 'X'},\n {'before': '2', 'after': 'X'},\n {'before': '2', 'after': '0'},\n {'before': '2', 'after': '0'},\n {'before': '2', 'after': '0'},\n {'before': '2', 'after': '1'},\n {'before': '2', 'after': '0'},\n {'before': '2', 'after': 'X'},\n {'before': '2', 'after': 'X'},\n {'before': '2', 'after': 'X'},\n {'before': '2', 'after': '2'},\n {'before': '2', 'after': '3'},\n {'before': '1', 'after': '0'},\n {'before': '2', 'after': '2'},\n {'before': '4', 'after': '1'},\n {'before': '2', 'after': '1'},\n {'before': '2', 'after': '0'},\n {'before': '2', 'after': '0'},\n {'before': '2', 'after': '0'},\n {'before': '2', 'after': '0'},\n {'before': '1', 'after': '0'},\n {'before': '1', 'after': '0'},\n {'before': '1', 'after': '1'},\n {'before': '1', 'after': '0'},\n {'before': '2', 'after': 'X'},\n {'before': '2', 'after': '2'},\n {'before': '2', 'after': '0'},\n {'before': '2', 'after': '2'},\n {'before': '2', 'after': '0'},\n {'before': '2', 'after': '0'},\n {'before': '2', 'after': '0'},\n {'before': '2', 'after': 'X'},\n {'before': '2', 'after': 'X'},\n {'before': '2', 'after': 'X'},\n {'before': '9', 'after': '6'},\n {'before': '9', 'after': '7'},\n {'before': '2', 'after': '0'},\n {'before': '9', 'after': '7'},\n {'before': '9', 'after': '0'},\n {'before': '2', 'after': '0'},\n {'before': '2', 'after': '0'},\n {'before': '4', 'after': '3'},\n {'before': '2', 'after': '0'}]"
     },
     "execution_count": 22,
     "metadata": {},
     "output_type": "execute_result"
    }
   ],
   "source": [
    "issues_change_dict"
   ],
   "metadata": {
    "collapsed": false
   }
  },
  {
   "cell_type": "code",
   "execution_count": 23,
   "outputs": [],
   "source": [
    "import pandas as pd\n",
    "df = pd.DataFrame(issues_change_dict)"
   ],
   "metadata": {
    "collapsed": false
   }
  },
  {
   "cell_type": "code",
   "execution_count": 24,
   "outputs": [
    {
     "data": {
      "text/plain": "   before after\n0       2     X\n1       2     0\n2       2     X\n3       2     3\n4       2     0\n..    ...   ...\n87      9     0\n88      2     0\n89      2     0\n90      4     3\n91      2     0\n\n[92 rows x 2 columns]",
      "text/html": "<div>\n<style scoped>\n    .dataframe tbody tr th:only-of-type {\n        vertical-align: middle;\n    }\n\n    .dataframe tbody tr th {\n        vertical-align: top;\n    }\n\n    .dataframe thead th {\n        text-align: right;\n    }\n</style>\n<table border=\"1\" class=\"dataframe\">\n  <thead>\n    <tr style=\"text-align: right;\">\n      <th></th>\n      <th>before</th>\n      <th>after</th>\n    </tr>\n  </thead>\n  <tbody>\n    <tr>\n      <th>0</th>\n      <td>2</td>\n      <td>X</td>\n    </tr>\n    <tr>\n      <th>1</th>\n      <td>2</td>\n      <td>0</td>\n    </tr>\n    <tr>\n      <th>2</th>\n      <td>2</td>\n      <td>X</td>\n    </tr>\n    <tr>\n      <th>3</th>\n      <td>2</td>\n      <td>3</td>\n    </tr>\n    <tr>\n      <th>4</th>\n      <td>2</td>\n      <td>0</td>\n    </tr>\n    <tr>\n      <th>...</th>\n      <td>...</td>\n      <td>...</td>\n    </tr>\n    <tr>\n      <th>87</th>\n      <td>9</td>\n      <td>0</td>\n    </tr>\n    <tr>\n      <th>88</th>\n      <td>2</td>\n      <td>0</td>\n    </tr>\n    <tr>\n      <th>89</th>\n      <td>2</td>\n      <td>0</td>\n    </tr>\n    <tr>\n      <th>90</th>\n      <td>4</td>\n      <td>3</td>\n    </tr>\n    <tr>\n      <th>91</th>\n      <td>2</td>\n      <td>0</td>\n    </tr>\n  </tbody>\n</table>\n<p>92 rows × 2 columns</p>\n</div>"
     },
     "execution_count": 24,
     "metadata": {},
     "output_type": "execute_result"
    }
   ],
   "source": [
    "df"
   ],
   "metadata": {
    "collapsed": false
   }
  },
  {
   "cell_type": "code",
   "execution_count": 26,
   "outputs": [],
   "source": [
    "df.to_csv(path_or_buf=\"../data/number_of_issues_before_after.csv\", header=True)"
   ],
   "metadata": {
    "collapsed": false
   }
  },
  {
   "cell_type": "code",
   "execution_count": null,
   "outputs": [],
   "source": [],
   "metadata": {
    "collapsed": false
   }
  }
 ],
 "metadata": {
  "kernelspec": {
   "display_name": "Python 3",
   "language": "python",
   "name": "python3"
  },
  "language_info": {
   "codemirror_mode": {
    "name": "ipython",
    "version": 2
   },
   "file_extension": ".py",
   "mimetype": "text/x-python",
   "name": "python",
   "nbconvert_exporter": "python",
   "pygments_lexer": "ipython2",
   "version": "2.7.6"
  }
 },
 "nbformat": 4,
 "nbformat_minor": 0
}
