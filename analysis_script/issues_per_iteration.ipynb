{
 "cells": [
  {
   "cell_type": "code",
   "execution_count": 75,
   "metadata": {
    "collapsed": true
   },
   "outputs": [
    {
     "name": "stderr",
     "output_type": "stream",
     "text": [
      "/var/folders/bq/l2q_cb9j6bj21nlxmzykz44r0000gn/T/ipykernel_6793/1741334272.py:22: FutureWarning: The frame.append method is deprecated and will be removed from pandas in a future version. Use pandas.concat instead.\n",
      "  df = df.append(iteration, ignore_index=True)\n",
      "/var/folders/bq/l2q_cb9j6bj21nlxmzykz44r0000gn/T/ipykernel_6793/1741334272.py:22: FutureWarning: The frame.append method is deprecated and will be removed from pandas in a future version. Use pandas.concat instead.\n",
      "  df = df.append(iteration, ignore_index=True)\n",
      "/var/folders/bq/l2q_cb9j6bj21nlxmzykz44r0000gn/T/ipykernel_6793/1741334272.py:22: FutureWarning: The frame.append method is deprecated and will be removed from pandas in a future version. Use pandas.concat instead.\n",
      "  df = df.append(iteration, ignore_index=True)\n",
      "/var/folders/bq/l2q_cb9j6bj21nlxmzykz44r0000gn/T/ipykernel_6793/1741334272.py:22: FutureWarning: The frame.append method is deprecated and will be removed from pandas in a future version. Use pandas.concat instead.\n",
      "  df = df.append(iteration, ignore_index=True)\n",
      "/var/folders/bq/l2q_cb9j6bj21nlxmzykz44r0000gn/T/ipykernel_6793/1741334272.py:22: FutureWarning: The frame.append method is deprecated and will be removed from pandas in a future version. Use pandas.concat instead.\n",
      "  df = df.append(iteration, ignore_index=True)\n",
      "/var/folders/bq/l2q_cb9j6bj21nlxmzykz44r0000gn/T/ipykernel_6793/1741334272.py:22: FutureWarning: The frame.append method is deprecated and will be removed from pandas in a future version. Use pandas.concat instead.\n",
      "  df = df.append(iteration, ignore_index=True)\n",
      "/var/folders/bq/l2q_cb9j6bj21nlxmzykz44r0000gn/T/ipykernel_6793/1741334272.py:22: FutureWarning: The frame.append method is deprecated and will be removed from pandas in a future version. Use pandas.concat instead.\n",
      "  df = df.append(iteration, ignore_index=True)\n",
      "/var/folders/bq/l2q_cb9j6bj21nlxmzykz44r0000gn/T/ipykernel_6793/1741334272.py:22: FutureWarning: The frame.append method is deprecated and will be removed from pandas in a future version. Use pandas.concat instead.\n",
      "  df = df.append(iteration, ignore_index=True)\n",
      "/var/folders/bq/l2q_cb9j6bj21nlxmzykz44r0000gn/T/ipykernel_6793/1741334272.py:22: FutureWarning: The frame.append method is deprecated and will be removed from pandas in a future version. Use pandas.concat instead.\n",
      "  df = df.append(iteration, ignore_index=True)\n",
      "/var/folders/bq/l2q_cb9j6bj21nlxmzykz44r0000gn/T/ipykernel_6793/1741334272.py:22: FutureWarning: The frame.append method is deprecated and will be removed from pandas in a future version. Use pandas.concat instead.\n",
      "  df = df.append(iteration, ignore_index=True)\n",
      "/var/folders/bq/l2q_cb9j6bj21nlxmzykz44r0000gn/T/ipykernel_6793/1741334272.py:22: FutureWarning: The frame.append method is deprecated and will be removed from pandas in a future version. Use pandas.concat instead.\n",
      "  df = df.append(iteration, ignore_index=True)\n",
      "/var/folders/bq/l2q_cb9j6bj21nlxmzykz44r0000gn/T/ipykernel_6793/1741334272.py:22: FutureWarning: The frame.append method is deprecated and will be removed from pandas in a future version. Use pandas.concat instead.\n",
      "  df = df.append(iteration, ignore_index=True)\n",
      "/var/folders/bq/l2q_cb9j6bj21nlxmzykz44r0000gn/T/ipykernel_6793/1741334272.py:22: FutureWarning: The frame.append method is deprecated and will be removed from pandas in a future version. Use pandas.concat instead.\n",
      "  df = df.append(iteration, ignore_index=True)\n",
      "/var/folders/bq/l2q_cb9j6bj21nlxmzykz44r0000gn/T/ipykernel_6793/1741334272.py:22: FutureWarning: The frame.append method is deprecated and will be removed from pandas in a future version. Use pandas.concat instead.\n",
      "  df = df.append(iteration, ignore_index=True)\n",
      "/var/folders/bq/l2q_cb9j6bj21nlxmzykz44r0000gn/T/ipykernel_6793/1741334272.py:22: FutureWarning: The frame.append method is deprecated and will be removed from pandas in a future version. Use pandas.concat instead.\n",
      "  df = df.append(iteration, ignore_index=True)\n",
      "/var/folders/bq/l2q_cb9j6bj21nlxmzykz44r0000gn/T/ipykernel_6793/1741334272.py:22: FutureWarning: The frame.append method is deprecated and will be removed from pandas in a future version. Use pandas.concat instead.\n",
      "  df = df.append(iteration, ignore_index=True)\n",
      "/var/folders/bq/l2q_cb9j6bj21nlxmzykz44r0000gn/T/ipykernel_6793/1741334272.py:22: FutureWarning: The frame.append method is deprecated and will be removed from pandas in a future version. Use pandas.concat instead.\n",
      "  df = df.append(iteration, ignore_index=True)\n",
      "/var/folders/bq/l2q_cb9j6bj21nlxmzykz44r0000gn/T/ipykernel_6793/1741334272.py:22: FutureWarning: The frame.append method is deprecated and will be removed from pandas in a future version. Use pandas.concat instead.\n",
      "  df = df.append(iteration, ignore_index=True)\n",
      "/var/folders/bq/l2q_cb9j6bj21nlxmzykz44r0000gn/T/ipykernel_6793/1741334272.py:22: FutureWarning: The frame.append method is deprecated and will be removed from pandas in a future version. Use pandas.concat instead.\n",
      "  df = df.append(iteration, ignore_index=True)\n",
      "/var/folders/bq/l2q_cb9j6bj21nlxmzykz44r0000gn/T/ipykernel_6793/1741334272.py:22: FutureWarning: The frame.append method is deprecated and will be removed from pandas in a future version. Use pandas.concat instead.\n",
      "  df = df.append(iteration, ignore_index=True)\n",
      "/var/folders/bq/l2q_cb9j6bj21nlxmzykz44r0000gn/T/ipykernel_6793/1741334272.py:22: FutureWarning: The frame.append method is deprecated and will be removed from pandas in a future version. Use pandas.concat instead.\n",
      "  df = df.append(iteration, ignore_index=True)\n",
      "/var/folders/bq/l2q_cb9j6bj21nlxmzykz44r0000gn/T/ipykernel_6793/1741334272.py:22: FutureWarning: The frame.append method is deprecated and will be removed from pandas in a future version. Use pandas.concat instead.\n",
      "  df = df.append(iteration, ignore_index=True)\n",
      "/var/folders/bq/l2q_cb9j6bj21nlxmzykz44r0000gn/T/ipykernel_6793/1741334272.py:22: FutureWarning: The frame.append method is deprecated and will be removed from pandas in a future version. Use pandas.concat instead.\n",
      "  df = df.append(iteration, ignore_index=True)\n",
      "/var/folders/bq/l2q_cb9j6bj21nlxmzykz44r0000gn/T/ipykernel_6793/1741334272.py:22: FutureWarning: The frame.append method is deprecated and will be removed from pandas in a future version. Use pandas.concat instead.\n",
      "  df = df.append(iteration, ignore_index=True)\n",
      "/var/folders/bq/l2q_cb9j6bj21nlxmzykz44r0000gn/T/ipykernel_6793/1741334272.py:22: FutureWarning: The frame.append method is deprecated and will be removed from pandas in a future version. Use pandas.concat instead.\n",
      "  df = df.append(iteration, ignore_index=True)\n",
      "/var/folders/bq/l2q_cb9j6bj21nlxmzykz44r0000gn/T/ipykernel_6793/1741334272.py:22: FutureWarning: The frame.append method is deprecated and will be removed from pandas in a future version. Use pandas.concat instead.\n",
      "  df = df.append(iteration, ignore_index=True)\n",
      "/var/folders/bq/l2q_cb9j6bj21nlxmzykz44r0000gn/T/ipykernel_6793/1741334272.py:22: FutureWarning: The frame.append method is deprecated and will be removed from pandas in a future version. Use pandas.concat instead.\n",
      "  df = df.append(iteration, ignore_index=True)\n",
      "/var/folders/bq/l2q_cb9j6bj21nlxmzykz44r0000gn/T/ipykernel_6793/1741334272.py:22: FutureWarning: The frame.append method is deprecated and will be removed from pandas in a future version. Use pandas.concat instead.\n",
      "  df = df.append(iteration, ignore_index=True)\n",
      "/var/folders/bq/l2q_cb9j6bj21nlxmzykz44r0000gn/T/ipykernel_6793/1741334272.py:22: FutureWarning: The frame.append method is deprecated and will be removed from pandas in a future version. Use pandas.concat instead.\n",
      "  df = df.append(iteration, ignore_index=True)\n",
      "/var/folders/bq/l2q_cb9j6bj21nlxmzykz44r0000gn/T/ipykernel_6793/1741334272.py:22: FutureWarning: The frame.append method is deprecated and will be removed from pandas in a future version. Use pandas.concat instead.\n",
      "  df = df.append(iteration, ignore_index=True)\n",
      "/var/folders/bq/l2q_cb9j6bj21nlxmzykz44r0000gn/T/ipykernel_6793/1741334272.py:22: FutureWarning: The frame.append method is deprecated and will be removed from pandas in a future version. Use pandas.concat instead.\n",
      "  df = df.append(iteration, ignore_index=True)\n",
      "/var/folders/bq/l2q_cb9j6bj21nlxmzykz44r0000gn/T/ipykernel_6793/1741334272.py:22: FutureWarning: The frame.append method is deprecated and will be removed from pandas in a future version. Use pandas.concat instead.\n",
      "  df = df.append(iteration, ignore_index=True)\n",
      "/var/folders/bq/l2q_cb9j6bj21nlxmzykz44r0000gn/T/ipykernel_6793/1741334272.py:22: FutureWarning: The frame.append method is deprecated and will be removed from pandas in a future version. Use pandas.concat instead.\n",
      "  df = df.append(iteration, ignore_index=True)\n",
      "/var/folders/bq/l2q_cb9j6bj21nlxmzykz44r0000gn/T/ipykernel_6793/1741334272.py:22: FutureWarning: The frame.append method is deprecated and will be removed from pandas in a future version. Use pandas.concat instead.\n",
      "  df = df.append(iteration, ignore_index=True)\n",
      "/var/folders/bq/l2q_cb9j6bj21nlxmzykz44r0000gn/T/ipykernel_6793/1741334272.py:22: FutureWarning: The frame.append method is deprecated and will be removed from pandas in a future version. Use pandas.concat instead.\n",
      "  df = df.append(iteration, ignore_index=True)\n",
      "/var/folders/bq/l2q_cb9j6bj21nlxmzykz44r0000gn/T/ipykernel_6793/1741334272.py:22: FutureWarning: The frame.append method is deprecated and will be removed from pandas in a future version. Use pandas.concat instead.\n",
      "  df = df.append(iteration, ignore_index=True)\n",
      "/var/folders/bq/l2q_cb9j6bj21nlxmzykz44r0000gn/T/ipykernel_6793/1741334272.py:22: FutureWarning: The frame.append method is deprecated and will be removed from pandas in a future version. Use pandas.concat instead.\n",
      "  df = df.append(iteration, ignore_index=True)\n",
      "/var/folders/bq/l2q_cb9j6bj21nlxmzykz44r0000gn/T/ipykernel_6793/1741334272.py:22: FutureWarning: The frame.append method is deprecated and will be removed from pandas in a future version. Use pandas.concat instead.\n",
      "  df = df.append(iteration, ignore_index=True)\n",
      "/var/folders/bq/l2q_cb9j6bj21nlxmzykz44r0000gn/T/ipykernel_6793/1741334272.py:22: FutureWarning: The frame.append method is deprecated and will be removed from pandas in a future version. Use pandas.concat instead.\n",
      "  df = df.append(iteration, ignore_index=True)\n",
      "/var/folders/bq/l2q_cb9j6bj21nlxmzykz44r0000gn/T/ipykernel_6793/1741334272.py:22: FutureWarning: The frame.append method is deprecated and will be removed from pandas in a future version. Use pandas.concat instead.\n",
      "  df = df.append(iteration, ignore_index=True)\n",
      "/var/folders/bq/l2q_cb9j6bj21nlxmzykz44r0000gn/T/ipykernel_6793/1741334272.py:22: FutureWarning: The frame.append method is deprecated and will be removed from pandas in a future version. Use pandas.concat instead.\n",
      "  df = df.append(iteration, ignore_index=True)\n",
      "/var/folders/bq/l2q_cb9j6bj21nlxmzykz44r0000gn/T/ipykernel_6793/1741334272.py:22: FutureWarning: The frame.append method is deprecated and will be removed from pandas in a future version. Use pandas.concat instead.\n",
      "  df = df.append(iteration, ignore_index=True)\n",
      "/var/folders/bq/l2q_cb9j6bj21nlxmzykz44r0000gn/T/ipykernel_6793/1741334272.py:22: FutureWarning: The frame.append method is deprecated and will be removed from pandas in a future version. Use pandas.concat instead.\n",
      "  df = df.append(iteration, ignore_index=True)\n",
      "/var/folders/bq/l2q_cb9j6bj21nlxmzykz44r0000gn/T/ipykernel_6793/1741334272.py:22: FutureWarning: The frame.append method is deprecated and will be removed from pandas in a future version. Use pandas.concat instead.\n",
      "  df = df.append(iteration, ignore_index=True)\n",
      "/var/folders/bq/l2q_cb9j6bj21nlxmzykz44r0000gn/T/ipykernel_6793/1741334272.py:22: FutureWarning: The frame.append method is deprecated and will be removed from pandas in a future version. Use pandas.concat instead.\n",
      "  df = df.append(iteration, ignore_index=True)\n",
      "/var/folders/bq/l2q_cb9j6bj21nlxmzykz44r0000gn/T/ipykernel_6793/1741334272.py:22: FutureWarning: The frame.append method is deprecated and will be removed from pandas in a future version. Use pandas.concat instead.\n",
      "  df = df.append(iteration, ignore_index=True)\n",
      "/var/folders/bq/l2q_cb9j6bj21nlxmzykz44r0000gn/T/ipykernel_6793/1741334272.py:22: FutureWarning: The frame.append method is deprecated and will be removed from pandas in a future version. Use pandas.concat instead.\n",
      "  df = df.append(iteration, ignore_index=True)\n",
      "/var/folders/bq/l2q_cb9j6bj21nlxmzykz44r0000gn/T/ipykernel_6793/1741334272.py:22: FutureWarning: The frame.append method is deprecated and will be removed from pandas in a future version. Use pandas.concat instead.\n",
      "  df = df.append(iteration, ignore_index=True)\n",
      "/var/folders/bq/l2q_cb9j6bj21nlxmzykz44r0000gn/T/ipykernel_6793/1741334272.py:22: FutureWarning: The frame.append method is deprecated and will be removed from pandas in a future version. Use pandas.concat instead.\n",
      "  df = df.append(iteration, ignore_index=True)\n",
      "/var/folders/bq/l2q_cb9j6bj21nlxmzykz44r0000gn/T/ipykernel_6793/1741334272.py:22: FutureWarning: The frame.append method is deprecated and will be removed from pandas in a future version. Use pandas.concat instead.\n",
      "  df = df.append(iteration, ignore_index=True)\n",
      "/var/folders/bq/l2q_cb9j6bj21nlxmzykz44r0000gn/T/ipykernel_6793/1741334272.py:22: FutureWarning: The frame.append method is deprecated and will be removed from pandas in a future version. Use pandas.concat instead.\n",
      "  df = df.append(iteration, ignore_index=True)\n",
      "/var/folders/bq/l2q_cb9j6bj21nlxmzykz44r0000gn/T/ipykernel_6793/1741334272.py:22: FutureWarning: The frame.append method is deprecated and will be removed from pandas in a future version. Use pandas.concat instead.\n",
      "  df = df.append(iteration, ignore_index=True)\n",
      "/var/folders/bq/l2q_cb9j6bj21nlxmzykz44r0000gn/T/ipykernel_6793/1741334272.py:22: FutureWarning: The frame.append method is deprecated and will be removed from pandas in a future version. Use pandas.concat instead.\n",
      "  df = df.append(iteration, ignore_index=True)\n",
      "/var/folders/bq/l2q_cb9j6bj21nlxmzykz44r0000gn/T/ipykernel_6793/1741334272.py:22: FutureWarning: The frame.append method is deprecated and will be removed from pandas in a future version. Use pandas.concat instead.\n",
      "  df = df.append(iteration, ignore_index=True)\n",
      "/var/folders/bq/l2q_cb9j6bj21nlxmzykz44r0000gn/T/ipykernel_6793/1741334272.py:22: FutureWarning: The frame.append method is deprecated and will be removed from pandas in a future version. Use pandas.concat instead.\n",
      "  df = df.append(iteration, ignore_index=True)\n",
      "/var/folders/bq/l2q_cb9j6bj21nlxmzykz44r0000gn/T/ipykernel_6793/1741334272.py:22: FutureWarning: The frame.append method is deprecated and will be removed from pandas in a future version. Use pandas.concat instead.\n",
      "  df = df.append(iteration, ignore_index=True)\n",
      "/var/folders/bq/l2q_cb9j6bj21nlxmzykz44r0000gn/T/ipykernel_6793/1741334272.py:22: FutureWarning: The frame.append method is deprecated and will be removed from pandas in a future version. Use pandas.concat instead.\n",
      "  df = df.append(iteration, ignore_index=True)\n",
      "/var/folders/bq/l2q_cb9j6bj21nlxmzykz44r0000gn/T/ipykernel_6793/1741334272.py:22: FutureWarning: The frame.append method is deprecated and will be removed from pandas in a future version. Use pandas.concat instead.\n",
      "  df = df.append(iteration, ignore_index=True)\n",
      "/var/folders/bq/l2q_cb9j6bj21nlxmzykz44r0000gn/T/ipykernel_6793/1741334272.py:22: FutureWarning: The frame.append method is deprecated and will be removed from pandas in a future version. Use pandas.concat instead.\n",
      "  df = df.append(iteration, ignore_index=True)\n",
      "/var/folders/bq/l2q_cb9j6bj21nlxmzykz44r0000gn/T/ipykernel_6793/1741334272.py:22: FutureWarning: The frame.append method is deprecated and will be removed from pandas in a future version. Use pandas.concat instead.\n",
      "  df = df.append(iteration, ignore_index=True)\n",
      "/var/folders/bq/l2q_cb9j6bj21nlxmzykz44r0000gn/T/ipykernel_6793/1741334272.py:22: FutureWarning: The frame.append method is deprecated and will be removed from pandas in a future version. Use pandas.concat instead.\n",
      "  df = df.append(iteration, ignore_index=True)\n",
      "/var/folders/bq/l2q_cb9j6bj21nlxmzykz44r0000gn/T/ipykernel_6793/1741334272.py:22: FutureWarning: The frame.append method is deprecated and will be removed from pandas in a future version. Use pandas.concat instead.\n",
      "  df = df.append(iteration, ignore_index=True)\n",
      "/var/folders/bq/l2q_cb9j6bj21nlxmzykz44r0000gn/T/ipykernel_6793/1741334272.py:22: FutureWarning: The frame.append method is deprecated and will be removed from pandas in a future version. Use pandas.concat instead.\n",
      "  df = df.append(iteration, ignore_index=True)\n",
      "/var/folders/bq/l2q_cb9j6bj21nlxmzykz44r0000gn/T/ipykernel_6793/1741334272.py:22: FutureWarning: The frame.append method is deprecated and will be removed from pandas in a future version. Use pandas.concat instead.\n",
      "  df = df.append(iteration, ignore_index=True)\n",
      "/var/folders/bq/l2q_cb9j6bj21nlxmzykz44r0000gn/T/ipykernel_6793/1741334272.py:22: FutureWarning: The frame.append method is deprecated and will be removed from pandas in a future version. Use pandas.concat instead.\n",
      "  df = df.append(iteration, ignore_index=True)\n",
      "/var/folders/bq/l2q_cb9j6bj21nlxmzykz44r0000gn/T/ipykernel_6793/1741334272.py:22: FutureWarning: The frame.append method is deprecated and will be removed from pandas in a future version. Use pandas.concat instead.\n",
      "  df = df.append(iteration, ignore_index=True)\n",
      "/var/folders/bq/l2q_cb9j6bj21nlxmzykz44r0000gn/T/ipykernel_6793/1741334272.py:22: FutureWarning: The frame.append method is deprecated and will be removed from pandas in a future version. Use pandas.concat instead.\n",
      "  df = df.append(iteration, ignore_index=True)\n",
      "/var/folders/bq/l2q_cb9j6bj21nlxmzykz44r0000gn/T/ipykernel_6793/1741334272.py:22: FutureWarning: The frame.append method is deprecated and will be removed from pandas in a future version. Use pandas.concat instead.\n",
      "  df = df.append(iteration, ignore_index=True)\n",
      "/var/folders/bq/l2q_cb9j6bj21nlxmzykz44r0000gn/T/ipykernel_6793/1741334272.py:22: FutureWarning: The frame.append method is deprecated and will be removed from pandas in a future version. Use pandas.concat instead.\n",
      "  df = df.append(iteration, ignore_index=True)\n",
      "/var/folders/bq/l2q_cb9j6bj21nlxmzykz44r0000gn/T/ipykernel_6793/1741334272.py:22: FutureWarning: The frame.append method is deprecated and will be removed from pandas in a future version. Use pandas.concat instead.\n",
      "  df = df.append(iteration, ignore_index=True)\n",
      "/var/folders/bq/l2q_cb9j6bj21nlxmzykz44r0000gn/T/ipykernel_6793/1741334272.py:22: FutureWarning: The frame.append method is deprecated and will be removed from pandas in a future version. Use pandas.concat instead.\n",
      "  df = df.append(iteration, ignore_index=True)\n",
      "/var/folders/bq/l2q_cb9j6bj21nlxmzykz44r0000gn/T/ipykernel_6793/1741334272.py:22: FutureWarning: The frame.append method is deprecated and will be removed from pandas in a future version. Use pandas.concat instead.\n",
      "  df = df.append(iteration, ignore_index=True)\n",
      "/var/folders/bq/l2q_cb9j6bj21nlxmzykz44r0000gn/T/ipykernel_6793/1741334272.py:22: FutureWarning: The frame.append method is deprecated and will be removed from pandas in a future version. Use pandas.concat instead.\n",
      "  df = df.append(iteration, ignore_index=True)\n",
      "/var/folders/bq/l2q_cb9j6bj21nlxmzykz44r0000gn/T/ipykernel_6793/1741334272.py:22: FutureWarning: The frame.append method is deprecated and will be removed from pandas in a future version. Use pandas.concat instead.\n",
      "  df = df.append(iteration, ignore_index=True)\n",
      "/var/folders/bq/l2q_cb9j6bj21nlxmzykz44r0000gn/T/ipykernel_6793/1741334272.py:22: FutureWarning: The frame.append method is deprecated and will be removed from pandas in a future version. Use pandas.concat instead.\n",
      "  df = df.append(iteration, ignore_index=True)\n",
      "/var/folders/bq/l2q_cb9j6bj21nlxmzykz44r0000gn/T/ipykernel_6793/1741334272.py:22: FutureWarning: The frame.append method is deprecated and will be removed from pandas in a future version. Use pandas.concat instead.\n",
      "  df = df.append(iteration, ignore_index=True)\n",
      "/var/folders/bq/l2q_cb9j6bj21nlxmzykz44r0000gn/T/ipykernel_6793/1741334272.py:22: FutureWarning: The frame.append method is deprecated and will be removed from pandas in a future version. Use pandas.concat instead.\n",
      "  df = df.append(iteration, ignore_index=True)\n",
      "/var/folders/bq/l2q_cb9j6bj21nlxmzykz44r0000gn/T/ipykernel_6793/1741334272.py:22: FutureWarning: The frame.append method is deprecated and will be removed from pandas in a future version. Use pandas.concat instead.\n",
      "  df = df.append(iteration, ignore_index=True)\n",
      "/var/folders/bq/l2q_cb9j6bj21nlxmzykz44r0000gn/T/ipykernel_6793/1741334272.py:22: FutureWarning: The frame.append method is deprecated and will be removed from pandas in a future version. Use pandas.concat instead.\n",
      "  df = df.append(iteration, ignore_index=True)\n",
      "/var/folders/bq/l2q_cb9j6bj21nlxmzykz44r0000gn/T/ipykernel_6793/1741334272.py:22: FutureWarning: The frame.append method is deprecated and will be removed from pandas in a future version. Use pandas.concat instead.\n",
      "  df = df.append(iteration, ignore_index=True)\n",
      "/var/folders/bq/l2q_cb9j6bj21nlxmzykz44r0000gn/T/ipykernel_6793/1741334272.py:22: FutureWarning: The frame.append method is deprecated and will be removed from pandas in a future version. Use pandas.concat instead.\n",
      "  df = df.append(iteration, ignore_index=True)\n",
      "/var/folders/bq/l2q_cb9j6bj21nlxmzykz44r0000gn/T/ipykernel_6793/1741334272.py:22: FutureWarning: The frame.append method is deprecated and will be removed from pandas in a future version. Use pandas.concat instead.\n",
      "  df = df.append(iteration, ignore_index=True)\n",
      "/var/folders/bq/l2q_cb9j6bj21nlxmzykz44r0000gn/T/ipykernel_6793/1741334272.py:22: FutureWarning: The frame.append method is deprecated and will be removed from pandas in a future version. Use pandas.concat instead.\n",
      "  df = df.append(iteration, ignore_index=True)\n",
      "/var/folders/bq/l2q_cb9j6bj21nlxmzykz44r0000gn/T/ipykernel_6793/1741334272.py:22: FutureWarning: The frame.append method is deprecated and will be removed from pandas in a future version. Use pandas.concat instead.\n",
      "  df = df.append(iteration, ignore_index=True)\n",
      "/var/folders/bq/l2q_cb9j6bj21nlxmzykz44r0000gn/T/ipykernel_6793/1741334272.py:22: FutureWarning: The frame.append method is deprecated and will be removed from pandas in a future version. Use pandas.concat instead.\n",
      "  df = df.append(iteration, ignore_index=True)\n",
      "/var/folders/bq/l2q_cb9j6bj21nlxmzykz44r0000gn/T/ipykernel_6793/1741334272.py:22: FutureWarning: The frame.append method is deprecated and will be removed from pandas in a future version. Use pandas.concat instead.\n",
      "  df = df.append(iteration, ignore_index=True)\n",
      "/var/folders/bq/l2q_cb9j6bj21nlxmzykz44r0000gn/T/ipykernel_6793/1741334272.py:22: FutureWarning: The frame.append method is deprecated and will be removed from pandas in a future version. Use pandas.concat instead.\n",
      "  df = df.append(iteration, ignore_index=True)\n",
      "/var/folders/bq/l2q_cb9j6bj21nlxmzykz44r0000gn/T/ipykernel_6793/1741334272.py:22: FutureWarning: The frame.append method is deprecated and will be removed from pandas in a future version. Use pandas.concat instead.\n",
      "  df = df.append(iteration, ignore_index=True)\n",
      "/var/folders/bq/l2q_cb9j6bj21nlxmzykz44r0000gn/T/ipykernel_6793/1741334272.py:22: FutureWarning: The frame.append method is deprecated and will be removed from pandas in a future version. Use pandas.concat instead.\n",
      "  df = df.append(iteration, ignore_index=True)\n",
      "/var/folders/bq/l2q_cb9j6bj21nlxmzykz44r0000gn/T/ipykernel_6793/1741334272.py:22: FutureWarning: The frame.append method is deprecated and will be removed from pandas in a future version. Use pandas.concat instead.\n",
      "  df = df.append(iteration, ignore_index=True)\n",
      "/var/folders/bq/l2q_cb9j6bj21nlxmzykz44r0000gn/T/ipykernel_6793/1741334272.py:22: FutureWarning: The frame.append method is deprecated and will be removed from pandas in a future version. Use pandas.concat instead.\n",
      "  df = df.append(iteration, ignore_index=True)\n",
      "/var/folders/bq/l2q_cb9j6bj21nlxmzykz44r0000gn/T/ipykernel_6793/1741334272.py:22: FutureWarning: The frame.append method is deprecated and will be removed from pandas in a future version. Use pandas.concat instead.\n",
      "  df = df.append(iteration, ignore_index=True)\n",
      "/var/folders/bq/l2q_cb9j6bj21nlxmzykz44r0000gn/T/ipykernel_6793/1741334272.py:22: FutureWarning: The frame.append method is deprecated and will be removed from pandas in a future version. Use pandas.concat instead.\n",
      "  df = df.append(iteration, ignore_index=True)\n",
      "/var/folders/bq/l2q_cb9j6bj21nlxmzykz44r0000gn/T/ipykernel_6793/1741334272.py:22: FutureWarning: The frame.append method is deprecated and will be removed from pandas in a future version. Use pandas.concat instead.\n",
      "  df = df.append(iteration, ignore_index=True)\n",
      "/var/folders/bq/l2q_cb9j6bj21nlxmzykz44r0000gn/T/ipykernel_6793/1741334272.py:22: FutureWarning: The frame.append method is deprecated and will be removed from pandas in a future version. Use pandas.concat instead.\n",
      "  df = df.append(iteration, ignore_index=True)\n",
      "/var/folders/bq/l2q_cb9j6bj21nlxmzykz44r0000gn/T/ipykernel_6793/1741334272.py:22: FutureWarning: The frame.append method is deprecated and will be removed from pandas in a future version. Use pandas.concat instead.\n",
      "  df = df.append(iteration, ignore_index=True)\n",
      "/var/folders/bq/l2q_cb9j6bj21nlxmzykz44r0000gn/T/ipykernel_6793/1741334272.py:22: FutureWarning: The frame.append method is deprecated and will be removed from pandas in a future version. Use pandas.concat instead.\n",
      "  df = df.append(iteration, ignore_index=True)\n",
      "/var/folders/bq/l2q_cb9j6bj21nlxmzykz44r0000gn/T/ipykernel_6793/1741334272.py:22: FutureWarning: The frame.append method is deprecated and will be removed from pandas in a future version. Use pandas.concat instead.\n",
      "  df = df.append(iteration, ignore_index=True)\n",
      "/var/folders/bq/l2q_cb9j6bj21nlxmzykz44r0000gn/T/ipykernel_6793/1741334272.py:22: FutureWarning: The frame.append method is deprecated and will be removed from pandas in a future version. Use pandas.concat instead.\n",
      "  df = df.append(iteration, ignore_index=True)\n",
      "/var/folders/bq/l2q_cb9j6bj21nlxmzykz44r0000gn/T/ipykernel_6793/1741334272.py:22: FutureWarning: The frame.append method is deprecated and will be removed from pandas in a future version. Use pandas.concat instead.\n",
      "  df = df.append(iteration, ignore_index=True)\n",
      "/var/folders/bq/l2q_cb9j6bj21nlxmzykz44r0000gn/T/ipykernel_6793/1741334272.py:22: FutureWarning: The frame.append method is deprecated and will be removed from pandas in a future version. Use pandas.concat instead.\n",
      "  df = df.append(iteration, ignore_index=True)\n",
      "/var/folders/bq/l2q_cb9j6bj21nlxmzykz44r0000gn/T/ipykernel_6793/1741334272.py:22: FutureWarning: The frame.append method is deprecated and will be removed from pandas in a future version. Use pandas.concat instead.\n",
      "  df = df.append(iteration, ignore_index=True)\n",
      "/var/folders/bq/l2q_cb9j6bj21nlxmzykz44r0000gn/T/ipykernel_6793/1741334272.py:22: FutureWarning: The frame.append method is deprecated and will be removed from pandas in a future version. Use pandas.concat instead.\n",
      "  df = df.append(iteration, ignore_index=True)\n",
      "/var/folders/bq/l2q_cb9j6bj21nlxmzykz44r0000gn/T/ipykernel_6793/1741334272.py:22: FutureWarning: The frame.append method is deprecated and will be removed from pandas in a future version. Use pandas.concat instead.\n",
      "  df = df.append(iteration, ignore_index=True)\n",
      "/var/folders/bq/l2q_cb9j6bj21nlxmzykz44r0000gn/T/ipykernel_6793/1741334272.py:22: FutureWarning: The frame.append method is deprecated and will be removed from pandas in a future version. Use pandas.concat instead.\n",
      "  df = df.append(iteration, ignore_index=True)\n",
      "/var/folders/bq/l2q_cb9j6bj21nlxmzykz44r0000gn/T/ipykernel_6793/1741334272.py:22: FutureWarning: The frame.append method is deprecated and will be removed from pandas in a future version. Use pandas.concat instead.\n",
      "  df = df.append(iteration, ignore_index=True)\n",
      "/var/folders/bq/l2q_cb9j6bj21nlxmzykz44r0000gn/T/ipykernel_6793/1741334272.py:22: FutureWarning: The frame.append method is deprecated and will be removed from pandas in a future version. Use pandas.concat instead.\n",
      "  df = df.append(iteration, ignore_index=True)\n",
      "/var/folders/bq/l2q_cb9j6bj21nlxmzykz44r0000gn/T/ipykernel_6793/1741334272.py:22: FutureWarning: The frame.append method is deprecated and will be removed from pandas in a future version. Use pandas.concat instead.\n",
      "  df = df.append(iteration, ignore_index=True)\n",
      "/var/folders/bq/l2q_cb9j6bj21nlxmzykz44r0000gn/T/ipykernel_6793/1741334272.py:22: FutureWarning: The frame.append method is deprecated and will be removed from pandas in a future version. Use pandas.concat instead.\n",
      "  df = df.append(iteration, ignore_index=True)\n",
      "/var/folders/bq/l2q_cb9j6bj21nlxmzykz44r0000gn/T/ipykernel_6793/1741334272.py:22: FutureWarning: The frame.append method is deprecated and will be removed from pandas in a future version. Use pandas.concat instead.\n",
      "  df = df.append(iteration, ignore_index=True)\n",
      "/var/folders/bq/l2q_cb9j6bj21nlxmzykz44r0000gn/T/ipykernel_6793/1741334272.py:22: FutureWarning: The frame.append method is deprecated and will be removed from pandas in a future version. Use pandas.concat instead.\n",
      "  df = df.append(iteration, ignore_index=True)\n",
      "/var/folders/bq/l2q_cb9j6bj21nlxmzykz44r0000gn/T/ipykernel_6793/1741334272.py:22: FutureWarning: The frame.append method is deprecated and will be removed from pandas in a future version. Use pandas.concat instead.\n",
      "  df = df.append(iteration, ignore_index=True)\n",
      "/var/folders/bq/l2q_cb9j6bj21nlxmzykz44r0000gn/T/ipykernel_6793/1741334272.py:22: FutureWarning: The frame.append method is deprecated and will be removed from pandas in a future version. Use pandas.concat instead.\n",
      "  df = df.append(iteration, ignore_index=True)\n",
      "/var/folders/bq/l2q_cb9j6bj21nlxmzykz44r0000gn/T/ipykernel_6793/1741334272.py:22: FutureWarning: The frame.append method is deprecated and will be removed from pandas in a future version. Use pandas.concat instead.\n",
      "  df = df.append(iteration, ignore_index=True)\n",
      "/var/folders/bq/l2q_cb9j6bj21nlxmzykz44r0000gn/T/ipykernel_6793/1741334272.py:22: FutureWarning: The frame.append method is deprecated and will be removed from pandas in a future version. Use pandas.concat instead.\n",
      "  df = df.append(iteration, ignore_index=True)\n",
      "/var/folders/bq/l2q_cb9j6bj21nlxmzykz44r0000gn/T/ipykernel_6793/1741334272.py:22: FutureWarning: The frame.append method is deprecated and will be removed from pandas in a future version. Use pandas.concat instead.\n",
      "  df = df.append(iteration, ignore_index=True)\n",
      "/var/folders/bq/l2q_cb9j6bj21nlxmzykz44r0000gn/T/ipykernel_6793/1741334272.py:22: FutureWarning: The frame.append method is deprecated and will be removed from pandas in a future version. Use pandas.concat instead.\n",
      "  df = df.append(iteration, ignore_index=True)\n",
      "/var/folders/bq/l2q_cb9j6bj21nlxmzykz44r0000gn/T/ipykernel_6793/1741334272.py:22: FutureWarning: The frame.append method is deprecated and will be removed from pandas in a future version. Use pandas.concat instead.\n",
      "  df = df.append(iteration, ignore_index=True)\n",
      "/var/folders/bq/l2q_cb9j6bj21nlxmzykz44r0000gn/T/ipykernel_6793/1741334272.py:22: FutureWarning: The frame.append method is deprecated and will be removed from pandas in a future version. Use pandas.concat instead.\n",
      "  df = df.append(iteration, ignore_index=True)\n",
      "/var/folders/bq/l2q_cb9j6bj21nlxmzykz44r0000gn/T/ipykernel_6793/1741334272.py:22: FutureWarning: The frame.append method is deprecated and will be removed from pandas in a future version. Use pandas.concat instead.\n",
      "  df = df.append(iteration, ignore_index=True)\n",
      "/var/folders/bq/l2q_cb9j6bj21nlxmzykz44r0000gn/T/ipykernel_6793/1741334272.py:22: FutureWarning: The frame.append method is deprecated and will be removed from pandas in a future version. Use pandas.concat instead.\n",
      "  df = df.append(iteration, ignore_index=True)\n",
      "/var/folders/bq/l2q_cb9j6bj21nlxmzykz44r0000gn/T/ipykernel_6793/1741334272.py:22: FutureWarning: The frame.append method is deprecated and will be removed from pandas in a future version. Use pandas.concat instead.\n",
      "  df = df.append(iteration, ignore_index=True)\n",
      "/var/folders/bq/l2q_cb9j6bj21nlxmzykz44r0000gn/T/ipykernel_6793/1741334272.py:22: FutureWarning: The frame.append method is deprecated and will be removed from pandas in a future version. Use pandas.concat instead.\n",
      "  df = df.append(iteration, ignore_index=True)\n",
      "/var/folders/bq/l2q_cb9j6bj21nlxmzykz44r0000gn/T/ipykernel_6793/1741334272.py:22: FutureWarning: The frame.append method is deprecated and will be removed from pandas in a future version. Use pandas.concat instead.\n",
      "  df = df.append(iteration, ignore_index=True)\n",
      "/var/folders/bq/l2q_cb9j6bj21nlxmzykz44r0000gn/T/ipykernel_6793/1741334272.py:22: FutureWarning: The frame.append method is deprecated and will be removed from pandas in a future version. Use pandas.concat instead.\n",
      "  df = df.append(iteration, ignore_index=True)\n",
      "/var/folders/bq/l2q_cb9j6bj21nlxmzykz44r0000gn/T/ipykernel_6793/1741334272.py:22: FutureWarning: The frame.append method is deprecated and will be removed from pandas in a future version. Use pandas.concat instead.\n",
      "  df = df.append(iteration, ignore_index=True)\n",
      "/var/folders/bq/l2q_cb9j6bj21nlxmzykz44r0000gn/T/ipykernel_6793/1741334272.py:22: FutureWarning: The frame.append method is deprecated and will be removed from pandas in a future version. Use pandas.concat instead.\n",
      "  df = df.append(iteration, ignore_index=True)\n",
      "/var/folders/bq/l2q_cb9j6bj21nlxmzykz44r0000gn/T/ipykernel_6793/1741334272.py:22: FutureWarning: The frame.append method is deprecated and will be removed from pandas in a future version. Use pandas.concat instead.\n",
      "  df = df.append(iteration, ignore_index=True)\n",
      "/var/folders/bq/l2q_cb9j6bj21nlxmzykz44r0000gn/T/ipykernel_6793/1741334272.py:22: FutureWarning: The frame.append method is deprecated and will be removed from pandas in a future version. Use pandas.concat instead.\n",
      "  df = df.append(iteration, ignore_index=True)\n",
      "/var/folders/bq/l2q_cb9j6bj21nlxmzykz44r0000gn/T/ipykernel_6793/1741334272.py:22: FutureWarning: The frame.append method is deprecated and will be removed from pandas in a future version. Use pandas.concat instead.\n",
      "  df = df.append(iteration, ignore_index=True)\n",
      "/var/folders/bq/l2q_cb9j6bj21nlxmzykz44r0000gn/T/ipykernel_6793/1741334272.py:22: FutureWarning: The frame.append method is deprecated and will be removed from pandas in a future version. Use pandas.concat instead.\n",
      "  df = df.append(iteration, ignore_index=True)\n",
      "/var/folders/bq/l2q_cb9j6bj21nlxmzykz44r0000gn/T/ipykernel_6793/1741334272.py:22: FutureWarning: The frame.append method is deprecated and will be removed from pandas in a future version. Use pandas.concat instead.\n",
      "  df = df.append(iteration, ignore_index=True)\n",
      "/var/folders/bq/l2q_cb9j6bj21nlxmzykz44r0000gn/T/ipykernel_6793/1741334272.py:22: FutureWarning: The frame.append method is deprecated and will be removed from pandas in a future version. Use pandas.concat instead.\n",
      "  df = df.append(iteration, ignore_index=True)\n",
      "/var/folders/bq/l2q_cb9j6bj21nlxmzykz44r0000gn/T/ipykernel_6793/1741334272.py:22: FutureWarning: The frame.append method is deprecated and will be removed from pandas in a future version. Use pandas.concat instead.\n",
      "  df = df.append(iteration, ignore_index=True)\n",
      "/var/folders/bq/l2q_cb9j6bj21nlxmzykz44r0000gn/T/ipykernel_6793/1741334272.py:22: FutureWarning: The frame.append method is deprecated and will be removed from pandas in a future version. Use pandas.concat instead.\n",
      "  df = df.append(iteration, ignore_index=True)\n",
      "/var/folders/bq/l2q_cb9j6bj21nlxmzykz44r0000gn/T/ipykernel_6793/1741334272.py:22: FutureWarning: The frame.append method is deprecated and will be removed from pandas in a future version. Use pandas.concat instead.\n",
      "  df = df.append(iteration, ignore_index=True)\n",
      "/var/folders/bq/l2q_cb9j6bj21nlxmzykz44r0000gn/T/ipykernel_6793/1741334272.py:22: FutureWarning: The frame.append method is deprecated and will be removed from pandas in a future version. Use pandas.concat instead.\n",
      "  df = df.append(iteration, ignore_index=True)\n",
      "/var/folders/bq/l2q_cb9j6bj21nlxmzykz44r0000gn/T/ipykernel_6793/1741334272.py:22: FutureWarning: The frame.append method is deprecated and will be removed from pandas in a future version. Use pandas.concat instead.\n",
      "  df = df.append(iteration, ignore_index=True)\n",
      "/var/folders/bq/l2q_cb9j6bj21nlxmzykz44r0000gn/T/ipykernel_6793/1741334272.py:22: FutureWarning: The frame.append method is deprecated and will be removed from pandas in a future version. Use pandas.concat instead.\n",
      "  df = df.append(iteration, ignore_index=True)\n",
      "/var/folders/bq/l2q_cb9j6bj21nlxmzykz44r0000gn/T/ipykernel_6793/1741334272.py:22: FutureWarning: The frame.append method is deprecated and will be removed from pandas in a future version. Use pandas.concat instead.\n",
      "  df = df.append(iteration, ignore_index=True)\n",
      "/var/folders/bq/l2q_cb9j6bj21nlxmzykz44r0000gn/T/ipykernel_6793/1741334272.py:22: FutureWarning: The frame.append method is deprecated and will be removed from pandas in a future version. Use pandas.concat instead.\n",
      "  df = df.append(iteration, ignore_index=True)\n",
      "/var/folders/bq/l2q_cb9j6bj21nlxmzykz44r0000gn/T/ipykernel_6793/1741334272.py:22: FutureWarning: The frame.append method is deprecated and will be removed from pandas in a future version. Use pandas.concat instead.\n",
      "  df = df.append(iteration, ignore_index=True)\n",
      "/var/folders/bq/l2q_cb9j6bj21nlxmzykz44r0000gn/T/ipykernel_6793/1741334272.py:22: FutureWarning: The frame.append method is deprecated and will be removed from pandas in a future version. Use pandas.concat instead.\n",
      "  df = df.append(iteration, ignore_index=True)\n",
      "/var/folders/bq/l2q_cb9j6bj21nlxmzykz44r0000gn/T/ipykernel_6793/1741334272.py:22: FutureWarning: The frame.append method is deprecated and will be removed from pandas in a future version. Use pandas.concat instead.\n",
      "  df = df.append(iteration, ignore_index=True)\n",
      "/var/folders/bq/l2q_cb9j6bj21nlxmzykz44r0000gn/T/ipykernel_6793/1741334272.py:22: FutureWarning: The frame.append method is deprecated and will be removed from pandas in a future version. Use pandas.concat instead.\n",
      "  df = df.append(iteration, ignore_index=True)\n",
      "/var/folders/bq/l2q_cb9j6bj21nlxmzykz44r0000gn/T/ipykernel_6793/1741334272.py:22: FutureWarning: The frame.append method is deprecated and will be removed from pandas in a future version. Use pandas.concat instead.\n",
      "  df = df.append(iteration, ignore_index=True)\n",
      "/var/folders/bq/l2q_cb9j6bj21nlxmzykz44r0000gn/T/ipykernel_6793/1741334272.py:22: FutureWarning: The frame.append method is deprecated and will be removed from pandas in a future version. Use pandas.concat instead.\n",
      "  df = df.append(iteration, ignore_index=True)\n",
      "/var/folders/bq/l2q_cb9j6bj21nlxmzykz44r0000gn/T/ipykernel_6793/1741334272.py:22: FutureWarning: The frame.append method is deprecated and will be removed from pandas in a future version. Use pandas.concat instead.\n",
      "  df = df.append(iteration, ignore_index=True)\n",
      "/var/folders/bq/l2q_cb9j6bj21nlxmzykz44r0000gn/T/ipykernel_6793/1741334272.py:22: FutureWarning: The frame.append method is deprecated and will be removed from pandas in a future version. Use pandas.concat instead.\n",
      "  df = df.append(iteration, ignore_index=True)\n",
      "/var/folders/bq/l2q_cb9j6bj21nlxmzykz44r0000gn/T/ipykernel_6793/1741334272.py:22: FutureWarning: The frame.append method is deprecated and will be removed from pandas in a future version. Use pandas.concat instead.\n",
      "  df = df.append(iteration, ignore_index=True)\n",
      "/var/folders/bq/l2q_cb9j6bj21nlxmzykz44r0000gn/T/ipykernel_6793/1741334272.py:22: FutureWarning: The frame.append method is deprecated and will be removed from pandas in a future version. Use pandas.concat instead.\n",
      "  df = df.append(iteration, ignore_index=True)\n",
      "/var/folders/bq/l2q_cb9j6bj21nlxmzykz44r0000gn/T/ipykernel_6793/1741334272.py:22: FutureWarning: The frame.append method is deprecated and will be removed from pandas in a future version. Use pandas.concat instead.\n",
      "  df = df.append(iteration, ignore_index=True)\n",
      "/var/folders/bq/l2q_cb9j6bj21nlxmzykz44r0000gn/T/ipykernel_6793/1741334272.py:22: FutureWarning: The frame.append method is deprecated and will be removed from pandas in a future version. Use pandas.concat instead.\n",
      "  df = df.append(iteration, ignore_index=True)\n",
      "/var/folders/bq/l2q_cb9j6bj21nlxmzykz44r0000gn/T/ipykernel_6793/1741334272.py:22: FutureWarning: The frame.append method is deprecated and will be removed from pandas in a future version. Use pandas.concat instead.\n",
      "  df = df.append(iteration, ignore_index=True)\n",
      "/var/folders/bq/l2q_cb9j6bj21nlxmzykz44r0000gn/T/ipykernel_6793/1741334272.py:22: FutureWarning: The frame.append method is deprecated and will be removed from pandas in a future version. Use pandas.concat instead.\n",
      "  df = df.append(iteration, ignore_index=True)\n",
      "/var/folders/bq/l2q_cb9j6bj21nlxmzykz44r0000gn/T/ipykernel_6793/1741334272.py:22: FutureWarning: The frame.append method is deprecated and will be removed from pandas in a future version. Use pandas.concat instead.\n",
      "  df = df.append(iteration, ignore_index=True)\n",
      "/var/folders/bq/l2q_cb9j6bj21nlxmzykz44r0000gn/T/ipykernel_6793/1741334272.py:22: FutureWarning: The frame.append method is deprecated and will be removed from pandas in a future version. Use pandas.concat instead.\n",
      "  df = df.append(iteration, ignore_index=True)\n",
      "/var/folders/bq/l2q_cb9j6bj21nlxmzykz44r0000gn/T/ipykernel_6793/1741334272.py:22: FutureWarning: The frame.append method is deprecated and will be removed from pandas in a future version. Use pandas.concat instead.\n",
      "  df = df.append(iteration, ignore_index=True)\n",
      "/var/folders/bq/l2q_cb9j6bj21nlxmzykz44r0000gn/T/ipykernel_6793/1741334272.py:22: FutureWarning: The frame.append method is deprecated and will be removed from pandas in a future version. Use pandas.concat instead.\n",
      "  df = df.append(iteration, ignore_index=True)\n",
      "/var/folders/bq/l2q_cb9j6bj21nlxmzykz44r0000gn/T/ipykernel_6793/1741334272.py:22: FutureWarning: The frame.append method is deprecated and will be removed from pandas in a future version. Use pandas.concat instead.\n",
      "  df = df.append(iteration, ignore_index=True)\n",
      "/var/folders/bq/l2q_cb9j6bj21nlxmzykz44r0000gn/T/ipykernel_6793/1741334272.py:22: FutureWarning: The frame.append method is deprecated and will be removed from pandas in a future version. Use pandas.concat instead.\n",
      "  df = df.append(iteration, ignore_index=True)\n",
      "/var/folders/bq/l2q_cb9j6bj21nlxmzykz44r0000gn/T/ipykernel_6793/1741334272.py:22: FutureWarning: The frame.append method is deprecated and will be removed from pandas in a future version. Use pandas.concat instead.\n",
      "  df = df.append(iteration, ignore_index=True)\n",
      "/var/folders/bq/l2q_cb9j6bj21nlxmzykz44r0000gn/T/ipykernel_6793/1741334272.py:22: FutureWarning: The frame.append method is deprecated and will be removed from pandas in a future version. Use pandas.concat instead.\n",
      "  df = df.append(iteration, ignore_index=True)\n",
      "/var/folders/bq/l2q_cb9j6bj21nlxmzykz44r0000gn/T/ipykernel_6793/1741334272.py:22: FutureWarning: The frame.append method is deprecated and will be removed from pandas in a future version. Use pandas.concat instead.\n",
      "  df = df.append(iteration, ignore_index=True)\n",
      "/var/folders/bq/l2q_cb9j6bj21nlxmzykz44r0000gn/T/ipykernel_6793/1741334272.py:22: FutureWarning: The frame.append method is deprecated and will be removed from pandas in a future version. Use pandas.concat instead.\n",
      "  df = df.append(iteration, ignore_index=True)\n",
      "/var/folders/bq/l2q_cb9j6bj21nlxmzykz44r0000gn/T/ipykernel_6793/1741334272.py:22: FutureWarning: The frame.append method is deprecated and will be removed from pandas in a future version. Use pandas.concat instead.\n",
      "  df = df.append(iteration, ignore_index=True)\n",
      "/var/folders/bq/l2q_cb9j6bj21nlxmzykz44r0000gn/T/ipykernel_6793/1741334272.py:22: FutureWarning: The frame.append method is deprecated and will be removed from pandas in a future version. Use pandas.concat instead.\n",
      "  df = df.append(iteration, ignore_index=True)\n",
      "/var/folders/bq/l2q_cb9j6bj21nlxmzykz44r0000gn/T/ipykernel_6793/1741334272.py:22: FutureWarning: The frame.append method is deprecated and will be removed from pandas in a future version. Use pandas.concat instead.\n",
      "  df = df.append(iteration, ignore_index=True)\n",
      "/var/folders/bq/l2q_cb9j6bj21nlxmzykz44r0000gn/T/ipykernel_6793/1741334272.py:22: FutureWarning: The frame.append method is deprecated and will be removed from pandas in a future version. Use pandas.concat instead.\n",
      "  df = df.append(iteration, ignore_index=True)\n",
      "/var/folders/bq/l2q_cb9j6bj21nlxmzykz44r0000gn/T/ipykernel_6793/1741334272.py:22: FutureWarning: The frame.append method is deprecated and will be removed from pandas in a future version. Use pandas.concat instead.\n",
      "  df = df.append(iteration, ignore_index=True)\n",
      "/var/folders/bq/l2q_cb9j6bj21nlxmzykz44r0000gn/T/ipykernel_6793/1741334272.py:22: FutureWarning: The frame.append method is deprecated and will be removed from pandas in a future version. Use pandas.concat instead.\n",
      "  df = df.append(iteration, ignore_index=True)\n",
      "/var/folders/bq/l2q_cb9j6bj21nlxmzykz44r0000gn/T/ipykernel_6793/1741334272.py:22: FutureWarning: The frame.append method is deprecated and will be removed from pandas in a future version. Use pandas.concat instead.\n",
      "  df = df.append(iteration, ignore_index=True)\n",
      "/var/folders/bq/l2q_cb9j6bj21nlxmzykz44r0000gn/T/ipykernel_6793/1741334272.py:22: FutureWarning: The frame.append method is deprecated and will be removed from pandas in a future version. Use pandas.concat instead.\n",
      "  df = df.append(iteration, ignore_index=True)\n",
      "/var/folders/bq/l2q_cb9j6bj21nlxmzykz44r0000gn/T/ipykernel_6793/1741334272.py:22: FutureWarning: The frame.append method is deprecated and will be removed from pandas in a future version. Use pandas.concat instead.\n",
      "  df = df.append(iteration, ignore_index=True)\n",
      "/var/folders/bq/l2q_cb9j6bj21nlxmzykz44r0000gn/T/ipykernel_6793/1741334272.py:22: FutureWarning: The frame.append method is deprecated and will be removed from pandas in a future version. Use pandas.concat instead.\n",
      "  df = df.append(iteration, ignore_index=True)\n",
      "/var/folders/bq/l2q_cb9j6bj21nlxmzykz44r0000gn/T/ipykernel_6793/1741334272.py:22: FutureWarning: The frame.append method is deprecated and will be removed from pandas in a future version. Use pandas.concat instead.\n",
      "  df = df.append(iteration, ignore_index=True)\n",
      "/var/folders/bq/l2q_cb9j6bj21nlxmzykz44r0000gn/T/ipykernel_6793/1741334272.py:22: FutureWarning: The frame.append method is deprecated and will be removed from pandas in a future version. Use pandas.concat instead.\n",
      "  df = df.append(iteration, ignore_index=True)\n",
      "/var/folders/bq/l2q_cb9j6bj21nlxmzykz44r0000gn/T/ipykernel_6793/1741334272.py:22: FutureWarning: The frame.append method is deprecated and will be removed from pandas in a future version. Use pandas.concat instead.\n",
      "  df = df.append(iteration, ignore_index=True)\n",
      "/var/folders/bq/l2q_cb9j6bj21nlxmzykz44r0000gn/T/ipykernel_6793/1741334272.py:22: FutureWarning: The frame.append method is deprecated and will be removed from pandas in a future version. Use pandas.concat instead.\n",
      "  df = df.append(iteration, ignore_index=True)\n",
      "/var/folders/bq/l2q_cb9j6bj21nlxmzykz44r0000gn/T/ipykernel_6793/1741334272.py:22: FutureWarning: The frame.append method is deprecated and will be removed from pandas in a future version. Use pandas.concat instead.\n",
      "  df = df.append(iteration, ignore_index=True)\n",
      "/var/folders/bq/l2q_cb9j6bj21nlxmzykz44r0000gn/T/ipykernel_6793/1741334272.py:22: FutureWarning: The frame.append method is deprecated and will be removed from pandas in a future version. Use pandas.concat instead.\n",
      "  df = df.append(iteration, ignore_index=True)\n",
      "/var/folders/bq/l2q_cb9j6bj21nlxmzykz44r0000gn/T/ipykernel_6793/1741334272.py:22: FutureWarning: The frame.append method is deprecated and will be removed from pandas in a future version. Use pandas.concat instead.\n",
      "  df = df.append(iteration, ignore_index=True)\n",
      "/var/folders/bq/l2q_cb9j6bj21nlxmzykz44r0000gn/T/ipykernel_6793/1741334272.py:22: FutureWarning: The frame.append method is deprecated and will be removed from pandas in a future version. Use pandas.concat instead.\n",
      "  df = df.append(iteration, ignore_index=True)\n",
      "/var/folders/bq/l2q_cb9j6bj21nlxmzykz44r0000gn/T/ipykernel_6793/1741334272.py:22: FutureWarning: The frame.append method is deprecated and will be removed from pandas in a future version. Use pandas.concat instead.\n",
      "  df = df.append(iteration, ignore_index=True)\n",
      "/var/folders/bq/l2q_cb9j6bj21nlxmzykz44r0000gn/T/ipykernel_6793/1741334272.py:22: FutureWarning: The frame.append method is deprecated and will be removed from pandas in a future version. Use pandas.concat instead.\n",
      "  df = df.append(iteration, ignore_index=True)\n",
      "/var/folders/bq/l2q_cb9j6bj21nlxmzykz44r0000gn/T/ipykernel_6793/1741334272.py:22: FutureWarning: The frame.append method is deprecated and will be removed from pandas in a future version. Use pandas.concat instead.\n",
      "  df = df.append(iteration, ignore_index=True)\n",
      "/var/folders/bq/l2q_cb9j6bj21nlxmzykz44r0000gn/T/ipykernel_6793/1741334272.py:22: FutureWarning: The frame.append method is deprecated and will be removed from pandas in a future version. Use pandas.concat instead.\n",
      "  df = df.append(iteration, ignore_index=True)\n",
      "/var/folders/bq/l2q_cb9j6bj21nlxmzykz44r0000gn/T/ipykernel_6793/1741334272.py:22: FutureWarning: The frame.append method is deprecated and will be removed from pandas in a future version. Use pandas.concat instead.\n",
      "  df = df.append(iteration, ignore_index=True)\n",
      "/var/folders/bq/l2q_cb9j6bj21nlxmzykz44r0000gn/T/ipykernel_6793/1741334272.py:22: FutureWarning: The frame.append method is deprecated and will be removed from pandas in a future version. Use pandas.concat instead.\n",
      "  df = df.append(iteration, ignore_index=True)\n",
      "/var/folders/bq/l2q_cb9j6bj21nlxmzykz44r0000gn/T/ipykernel_6793/1741334272.py:22: FutureWarning: The frame.append method is deprecated and will be removed from pandas in a future version. Use pandas.concat instead.\n",
      "  df = df.append(iteration, ignore_index=True)\n",
      "/var/folders/bq/l2q_cb9j6bj21nlxmzykz44r0000gn/T/ipykernel_6793/1741334272.py:22: FutureWarning: The frame.append method is deprecated and will be removed from pandas in a future version. Use pandas.concat instead.\n",
      "  df = df.append(iteration, ignore_index=True)\n",
      "/var/folders/bq/l2q_cb9j6bj21nlxmzykz44r0000gn/T/ipykernel_6793/1741334272.py:22: FutureWarning: The frame.append method is deprecated and will be removed from pandas in a future version. Use pandas.concat instead.\n",
      "  df = df.append(iteration, ignore_index=True)\n",
      "/var/folders/bq/l2q_cb9j6bj21nlxmzykz44r0000gn/T/ipykernel_6793/1741334272.py:22: FutureWarning: The frame.append method is deprecated and will be removed from pandas in a future version. Use pandas.concat instead.\n",
      "  df = df.append(iteration, ignore_index=True)\n",
      "/var/folders/bq/l2q_cb9j6bj21nlxmzykz44r0000gn/T/ipykernel_6793/1741334272.py:22: FutureWarning: The frame.append method is deprecated and will be removed from pandas in a future version. Use pandas.concat instead.\n",
      "  df = df.append(iteration, ignore_index=True)\n",
      "/var/folders/bq/l2q_cb9j6bj21nlxmzykz44r0000gn/T/ipykernel_6793/1741334272.py:22: FutureWarning: The frame.append method is deprecated and will be removed from pandas in a future version. Use pandas.concat instead.\n",
      "  df = df.append(iteration, ignore_index=True)\n",
      "/var/folders/bq/l2q_cb9j6bj21nlxmzykz44r0000gn/T/ipykernel_6793/1741334272.py:22: FutureWarning: The frame.append method is deprecated and will be removed from pandas in a future version. Use pandas.concat instead.\n",
      "  df = df.append(iteration, ignore_index=True)\n",
      "/var/folders/bq/l2q_cb9j6bj21nlxmzykz44r0000gn/T/ipykernel_6793/1741334272.py:22: FutureWarning: The frame.append method is deprecated and will be removed from pandas in a future version. Use pandas.concat instead.\n",
      "  df = df.append(iteration, ignore_index=True)\n",
      "/var/folders/bq/l2q_cb9j6bj21nlxmzykz44r0000gn/T/ipykernel_6793/1741334272.py:22: FutureWarning: The frame.append method is deprecated and will be removed from pandas in a future version. Use pandas.concat instead.\n",
      "  df = df.append(iteration, ignore_index=True)\n",
      "/var/folders/bq/l2q_cb9j6bj21nlxmzykz44r0000gn/T/ipykernel_6793/1741334272.py:22: FutureWarning: The frame.append method is deprecated and will be removed from pandas in a future version. Use pandas.concat instead.\n",
      "  df = df.append(iteration, ignore_index=True)\n",
      "/var/folders/bq/l2q_cb9j6bj21nlxmzykz44r0000gn/T/ipykernel_6793/1741334272.py:22: FutureWarning: The frame.append method is deprecated and will be removed from pandas in a future version. Use pandas.concat instead.\n",
      "  df = df.append(iteration, ignore_index=True)\n",
      "/var/folders/bq/l2q_cb9j6bj21nlxmzykz44r0000gn/T/ipykernel_6793/1741334272.py:22: FutureWarning: The frame.append method is deprecated and will be removed from pandas in a future version. Use pandas.concat instead.\n",
      "  df = df.append(iteration, ignore_index=True)\n",
      "/var/folders/bq/l2q_cb9j6bj21nlxmzykz44r0000gn/T/ipykernel_6793/1741334272.py:22: FutureWarning: The frame.append method is deprecated and will be removed from pandas in a future version. Use pandas.concat instead.\n",
      "  df = df.append(iteration, ignore_index=True)\n",
      "/var/folders/bq/l2q_cb9j6bj21nlxmzykz44r0000gn/T/ipykernel_6793/1741334272.py:22: FutureWarning: The frame.append method is deprecated and will be removed from pandas in a future version. Use pandas.concat instead.\n",
      "  df = df.append(iteration, ignore_index=True)\n",
      "/var/folders/bq/l2q_cb9j6bj21nlxmzykz44r0000gn/T/ipykernel_6793/1741334272.py:22: FutureWarning: The frame.append method is deprecated and will be removed from pandas in a future version. Use pandas.concat instead.\n",
      "  df = df.append(iteration, ignore_index=True)\n",
      "/var/folders/bq/l2q_cb9j6bj21nlxmzykz44r0000gn/T/ipykernel_6793/1741334272.py:22: FutureWarning: The frame.append method is deprecated and will be removed from pandas in a future version. Use pandas.concat instead.\n",
      "  df = df.append(iteration, ignore_index=True)\n",
      "/var/folders/bq/l2q_cb9j6bj21nlxmzykz44r0000gn/T/ipykernel_6793/1741334272.py:22: FutureWarning: The frame.append method is deprecated and will be removed from pandas in a future version. Use pandas.concat instead.\n",
      "  df = df.append(iteration, ignore_index=True)\n",
      "/var/folders/bq/l2q_cb9j6bj21nlxmzykz44r0000gn/T/ipykernel_6793/1741334272.py:22: FutureWarning: The frame.append method is deprecated and will be removed from pandas in a future version. Use pandas.concat instead.\n",
      "  df = df.append(iteration, ignore_index=True)\n",
      "/var/folders/bq/l2q_cb9j6bj21nlxmzykz44r0000gn/T/ipykernel_6793/1741334272.py:22: FutureWarning: The frame.append method is deprecated and will be removed from pandas in a future version. Use pandas.concat instead.\n",
      "  df = df.append(iteration, ignore_index=True)\n",
      "/var/folders/bq/l2q_cb9j6bj21nlxmzykz44r0000gn/T/ipykernel_6793/1741334272.py:22: FutureWarning: The frame.append method is deprecated and will be removed from pandas in a future version. Use pandas.concat instead.\n",
      "  df = df.append(iteration, ignore_index=True)\n",
      "/var/folders/bq/l2q_cb9j6bj21nlxmzykz44r0000gn/T/ipykernel_6793/1741334272.py:22: FutureWarning: The frame.append method is deprecated and will be removed from pandas in a future version. Use pandas.concat instead.\n",
      "  df = df.append(iteration, ignore_index=True)\n",
      "/var/folders/bq/l2q_cb9j6bj21nlxmzykz44r0000gn/T/ipykernel_6793/1741334272.py:22: FutureWarning: The frame.append method is deprecated and will be removed from pandas in a future version. Use pandas.concat instead.\n",
      "  df = df.append(iteration, ignore_index=True)\n",
      "/var/folders/bq/l2q_cb9j6bj21nlxmzykz44r0000gn/T/ipykernel_6793/1741334272.py:22: FutureWarning: The frame.append method is deprecated and will be removed from pandas in a future version. Use pandas.concat instead.\n",
      "  df = df.append(iteration, ignore_index=True)\n",
      "/var/folders/bq/l2q_cb9j6bj21nlxmzykz44r0000gn/T/ipykernel_6793/1741334272.py:22: FutureWarning: The frame.append method is deprecated and will be removed from pandas in a future version. Use pandas.concat instead.\n",
      "  df = df.append(iteration, ignore_index=True)\n"
     ]
    }
   ],
   "source": [
    "import os\n",
    "import json\n",
    "import pandas as pd\n",
    "import numpy as np\n",
    "\n",
    "# get all json files that store our interactions with chatgpt\n",
    "# these are the final, optimized files\n",
    "json_files_final_run = [\n",
    "    os.path.join(dp, f) for dp, dn, fn in os.walk(\"../data/prompts_new_format\") for f in fn\n",
    "    if (\"final\" in f) and f.endswith(\".json\") and (not f.endswith(\" 2.json\"))]\n",
    "\n",
    "total_files = len(json_files_final_run)\n",
    "\n",
    "# read all the data into a pandas dataframe\n",
    "li = []\n",
    "for filename in json_files_final_run:\n",
    "    json_data = json.load(open(filename))\n",
    "    for i, iteration in enumerate(json_data):\n",
    "        iteration[\"iteration\"] = i\n",
    "        iteration[\"file\"] = filename\n",
    "        df = pd.DataFrame(columns=[\"iteration\", \"prompt\", \"code\", \"tfsec\", \"number_of_issues\", \"file\"])\n",
    "        df = df.append(iteration, ignore_index=True)\n",
    "        li.append(df)\n",
    "frame_all_runs = pd.concat(li, axis=0, ignore_index=True)"
   ]
  },
  {
   "cell_type": "code",
   "execution_count": 76,
   "outputs": [
    {
     "name": "stdout",
     "output_type": "stream",
     "text": [
      "213\n",
      "164\n",
      "iteration           object\n",
      "prompt              object\n",
      "code                object\n",
      "tfsec               object\n",
      "number_of_issues     int64\n",
      "file                object\n",
      "dtype: object\n"
     ]
    }
   ],
   "source": [
    "print(len(frame_all_runs))\n",
    "frame_all_runs[\"number_of_issues\"].replace(\"\", np.nan)\n",
    "frame_all_runs[\"number_of_issues\"].dropna(inplace=True)\n",
    "frame_all_runs = frame_all_runs[frame_all_runs[\"number_of_issues\"].astype(bool)]\n",
    "frame_all_runs[\"number_of_issues\"] = frame_all_runs[\"number_of_issues\"].astype(int)\n",
    "frame_all_runs = frame_all_runs[frame_all_runs[\"number_of_issues\"] >= 0]\n",
    "# len(sequence) > 1) or (sequence[0] == 0)\n",
    "print(len(frame_all_runs))\n",
    "print(frame_all_runs.dtypes)"
   ],
   "metadata": {
    "collapsed": false
   }
  },
  {
   "cell_type": "code",
   "execution_count": 77,
   "outputs": [
    {
     "name": "stderr",
     "output_type": "stream",
     "text": [
      "/var/folders/bq/l2q_cb9j6bj21nlxmzykz44r0000gn/T/ipykernel_6793/1746645134.py:1: FutureWarning: The default value of numeric_only in DataFrameGroupBy.mean is deprecated. In a future version, numeric_only will default to False. Either specify numeric_only or select only columns which should be valid for the function.\n",
      "  frame_all_runs.groupby(\"iteration\").mean()\n"
     ]
    },
    {
     "data": {
      "text/plain": "           number_of_issues\niteration                  \n0                  3.987500\n1                  2.693878\n2                  3.578947\n3                  4.846154\n4                  3.500000\n5                  0.000000",
      "text/html": "<div>\n<style scoped>\n    .dataframe tbody tr th:only-of-type {\n        vertical-align: middle;\n    }\n\n    .dataframe tbody tr th {\n        vertical-align: top;\n    }\n\n    .dataframe thead th {\n        text-align: right;\n    }\n</style>\n<table border=\"1\" class=\"dataframe\">\n  <thead>\n    <tr style=\"text-align: right;\">\n      <th></th>\n      <th>number_of_issues</th>\n    </tr>\n    <tr>\n      <th>iteration</th>\n      <th></th>\n    </tr>\n  </thead>\n  <tbody>\n    <tr>\n      <th>0</th>\n      <td>3.987500</td>\n    </tr>\n    <tr>\n      <th>1</th>\n      <td>2.693878</td>\n    </tr>\n    <tr>\n      <th>2</th>\n      <td>3.578947</td>\n    </tr>\n    <tr>\n      <th>3</th>\n      <td>4.846154</td>\n    </tr>\n    <tr>\n      <th>4</th>\n      <td>3.500000</td>\n    </tr>\n    <tr>\n      <th>5</th>\n      <td>0.000000</td>\n    </tr>\n  </tbody>\n</table>\n</div>"
     },
     "execution_count": 77,
     "metadata": {},
     "output_type": "execute_result"
    }
   ],
   "source": [
    "frame_all_runs.groupby(\"iteration\").mean()"
   ],
   "metadata": {
    "collapsed": false
   }
  },
  {
   "cell_type": "code",
   "execution_count": 55,
   "outputs": [
    {
     "name": "stderr",
     "output_type": "stream",
     "text": [
      "/var/folders/bq/l2q_cb9j6bj21nlxmzykz44r0000gn/T/ipykernel_6793/3127731910.py:1: FutureWarning: The default value of numeric_only in DataFrameGroupBy.std is deprecated. In a future version, numeric_only will default to False. Either specify numeric_only or select only columns which should be valid for the function.\n",
      "  frame_all_runs.groupby(\"iteration\").std()\n"
     ]
    },
    {
     "data": {
      "text/plain": "           number_of_issues\niteration                  \n0                  4.026789\n1                  5.264678\n2                  4.500812\n3                  6.216191\n4                  4.949747\n5                       NaN",
      "text/html": "<div>\n<style scoped>\n    .dataframe tbody tr th:only-of-type {\n        vertical-align: middle;\n    }\n\n    .dataframe tbody tr th {\n        vertical-align: top;\n    }\n\n    .dataframe thead th {\n        text-align: right;\n    }\n</style>\n<table border=\"1\" class=\"dataframe\">\n  <thead>\n    <tr style=\"text-align: right;\">\n      <th></th>\n      <th>number_of_issues</th>\n    </tr>\n    <tr>\n      <th>iteration</th>\n      <th></th>\n    </tr>\n  </thead>\n  <tbody>\n    <tr>\n      <th>0</th>\n      <td>4.026789</td>\n    </tr>\n    <tr>\n      <th>1</th>\n      <td>5.264678</td>\n    </tr>\n    <tr>\n      <th>2</th>\n      <td>4.500812</td>\n    </tr>\n    <tr>\n      <th>3</th>\n      <td>6.216191</td>\n    </tr>\n    <tr>\n      <th>4</th>\n      <td>4.949747</td>\n    </tr>\n    <tr>\n      <th>5</th>\n      <td>NaN</td>\n    </tr>\n  </tbody>\n</table>\n</div>"
     },
     "execution_count": 55,
     "metadata": {},
     "output_type": "execute_result"
    }
   ],
   "source": [
    "frame_all_runs.groupby(\"iteration\").std()"
   ],
   "metadata": {
    "collapsed": false
   }
  },
  {
   "cell_type": "code",
   "execution_count": 54,
   "outputs": [
    {
     "data": {
      "text/plain": "array(['../data/prompts_new_format/prompt4/versuch14/final_1.json',\n       '../data/prompts_new_format/prompt4/versuch13/final_0.json',\n       '../data/prompts_new_format/prompt4/abbruch1/prompt_4_final_1.json',\n       '../data/prompts_new_format/prompt4/versuch12/final_1.json',\n       '../data/prompts_new_format/prompt4/versuch15/final_1.json',\n       '../data/prompts_new_format/prompt4/versuch8/prompt_4_final_1.json',\n       '../data/prompts_new_format/prompt4/versuch6/prompt_4_final_2.json',\n       '../data/prompts_new_format/prompt4/versuch7/prompt_4_final_1.json',\n       '../data/prompts_new_format/prompt4/versuch9/prompt_4_final_4.json',\n       '../data/prompts_new_format/prompt4/versuch10/prompt_4_final_1.json',\n       '../data/prompts_new_format/prompt4/versuch11/final_1.json',\n       '../data/prompts_new_format/prompt4/versuch2/prompt_4_final_2.json',\n       '../data/prompts_new_format/prompt4/versuch5/prompt_4_final_1.json',\n       '../data/prompts_new_format/prompt4/versuch4/prompt_4_final_4.json',\n       '../data/prompts_new_format/prompt3/versuch14/final_3.json',\n       '../data/prompts_new_format/prompt3/versuch13/final_1.json',\n       '../data/prompts_new_format/prompt3/versuch15/final_2.json',\n       '../data/prompts_new_format/prompt3/versuch8/prompt_3_final_4.json',\n       '../data/prompts_new_format/prompt3/versuch9/prompt_3_final_4.json',\n       '../data/prompts_new_format/prompt3/versuch11/final_5.json',\n       '../data/prompts_new_format/prompt3/versuch2/prompt_3_final_1.json',\n       '../data/prompts_new_format/prompt3/versuch4/prompt_3_final_2.json',\n       '../data/prompts_new_format/prompt3/versuch3/prompt_3_final_4.json',\n       '../data/prompts_new_format/prompt2/versuch14/final_1.json',\n       '../data/prompts_new_format/prompt2/versuch13/final_3.json',\n       '../data/prompts_new_format/prompt2/versuch12/final_2.json',\n       '../data/prompts_new_format/prompt2/versuch15/final_1.json',\n       '../data/prompts_new_format/prompt2/versuch8/prompt_2_final_0.json',\n       '../data/prompts_new_format/prompt2/versuch6/prompt_2_final_0.json',\n       '../data/prompts_new_format/prompt2/versuch1/prompt_2_final_0.json',\n       '../data/prompts_new_format/prompt2/versuch7/prompt_2_final_0.json',\n       '../data/prompts_new_format/prompt2/versuch9/prompt_2_final_0.json',\n       '../data/prompts_new_format/prompt2/versuch10/prompt_2_final_0.json',\n       '../data/prompts_new_format/prompt2/versuch11/final_2.json',\n       '../data/prompts_new_format/prompt2/versuch2/prompt_2_final_0.json',\n       '../data/prompts_new_format/prompt2/versuch5/prompt_2_final_1.json',\n       '../data/prompts_new_format/prompt2/versuch4/prompt_2_final_1.json',\n       '../data/prompts_new_format/prompt2/versuch3/prompt_2_final_0.json',\n       '../data/prompts_new_format/prompt5/versuch14/final_1.json',\n       '../data/prompts_new_format/prompt5/versuch13/final_2.json',\n       '../data/prompts_new_format/prompt5/versuch12/final_1.json',\n       '../data/prompts_new_format/prompt5/versuch15/final_1.json',\n       '../data/prompts_new_format/prompt5/versuch8/prompt_5_final_1.json',\n       '../data/prompts_new_format/prompt5/versuch6/prompt_5_final_2.json',\n       '../data/prompts_new_format/prompt5/versuch1/prompt_5_final_1.json',\n       '../data/prompts_new_format/prompt5/versuch7/prompt_5_final_2.json',\n       '../data/prompts_new_format/prompt5/versuch9/prompt_5_final_1.json',\n       '../data/prompts_new_format/prompt5/versuch10/prompt_5_final_4.json',\n       '../data/prompts_new_format/prompt5/versuch11/final_4.json',\n       '../data/prompts_new_format/prompt5/versuch2/prompt_5_final_1.json',\n       '../data/prompts_new_format/prompt5/versuch5/prompt_5_final_1.json',\n       '../data/prompts_new_format/prompt5/versuch4/prompt_5_final_1.json',\n       '../data/prompts_new_format/prompt5/versuch3/prompt_5_final_1.json',\n       '../data/prompts_new_format/prompt6/versuch14/final_1.json',\n       '../data/prompts_new_format/prompt6/versuch12/final_1.json',\n       '../data/prompts_new_format/prompt6/versuch15/final_4.json',\n       '../data/prompts_new_format/prompt6/versuch8/prompt_6_final_1.json',\n       '../data/prompts_new_format/prompt6/versuch6/prompt_6_final_2.json',\n       '../data/prompts_new_format/prompt6/versuch1/prompt_6_final_1.json',\n       '../data/prompts_new_format/prompt6/versuch7/prompt_6_final_3.json',\n       '../data/prompts_new_format/prompt6/versuch9/prompt_6_final_2.json',\n       '../data/prompts_new_format/prompt6/versuch10/prompt_6_final_1.json',\n       '../data/prompts_new_format/prompt6/versuch11/final_1.json',\n       '../data/prompts_new_format/prompt6/versuch2/prompt_6_final_2.json',\n       '../data/prompts_new_format/prompt6/versuch5/prompt_6_final_2.json',\n       '../data/prompts_new_format/prompt6/versuch4/prompt_6_final_3.json',\n       '../data/prompts_new_format/prompt6/versuch3/prompt_6_final_2.json',\n       '../data/prompts_new_format/prompt1/versuch14/final_1.json',\n       '../data/prompts_new_format/prompt1/versuch13/final_1.json',\n       '../data/prompts_new_format/prompt1/versuch12/final_1.json',\n       '../data/prompts_new_format/prompt1/versuch15/final_2.json',\n       '../data/prompts_new_format/prompt1/versuch8/prompt_1_final_1.json',\n       '../data/prompts_new_format/prompt1/versuch6/prompt_1_final_1.json',\n       '../data/prompts_new_format/prompt1/versuch1/prompt_1_final_2.json',\n       '../data/prompts_new_format/prompt1/versuch9/prompt_1_final_1.json',\n       '../data/prompts_new_format/prompt1/versuch10/prompt_1_final_1.json',\n       '../data/prompts_new_format/prompt1/versuch16/final_4.json',\n       '../data/prompts_new_format/prompt1/versuch11/final_1.json',\n       '../data/prompts_new_format/prompt1/versuch2/prompt_1_final_3.json',\n       '../data/prompts_new_format/prompt1/versuch5/prompt_1_final_4.json'],\n      dtype=object)"
     },
     "execution_count": 54,
     "metadata": {},
     "output_type": "execute_result"
    }
   ],
   "source": [
    "# extract all issue sequences per file\n",
    "files = frame_all_runs[\"file\"].unique()\n",
    "files"
   ],
   "metadata": {
    "collapsed": false
   }
  },
  {
   "cell_type": "code",
   "execution_count": 58,
   "outputs": [],
   "source": [
    "sequences = []\n",
    "for file in files:\n",
    "    slice = frame_all_runs[frame_all_runs[\"file\"].str.contains(file)]\n",
    "    slice.sort_values(\"iteration\")\n",
    "    sequences.append(slice[\"number_of_issues\"].to_list())"
   ],
   "metadata": {
    "collapsed": false
   }
  },
  {
   "cell_type": "code",
   "execution_count": 71,
   "outputs": [
    {
     "data": {
      "text/plain": "sequence                           \n[ 2 ,   0 ]                            15\n[ 2 ]                                  10\n[ 0 ]                                   9\n[ 2 ,   1 ]                             7\n[ 4 ,   0 ]                             2\n[ 1 1 ]                                 2\n[ 2 ,   3 ,   1 ,   1 ]                 2\n[ 7 ]                                   2\n[ 4 ]                                   2\n[ 8 ]                                   2\n[ 9 ,   7 ,   5 ,   5 ]                 2\n[ 2 ,   1 ,   0 ]                       2\n[ 9 ,   6 ,   6 ,   6 ,   7 ,   0 ]     1\n[ 9 ,   1 ,   1 ,   0 ]                 1\n[ 9 ,   7 ,   6 ,   5 ]                 1\n[ 7 ,   4 ]                             1\n[ 7 ,   2 ,   3 ,   2 ,   0 ]           1\n[ 9 ,   7 ]                             1\n[ 6 ]                                   1\n[ 6 ,   2 ]                             1\n[ 5 ]                                   1\n[ 1 3 ,   1 6 ,   1 5 ,   1 7 ]         1\n[ 4 ,   1 ]                             1\n[ 1 8 ,   3 0 ]                         1\n[ 3 ,   1 ,   1 ]                       1\n[ 2 0 ]                                 1\n[ 2 ,   2 ]                             1\n[ 2 ,   2 ,   4 ]                       1\n[ 2 ,   2 ,   1 ,   1 ]                 1\n[ 2 ,   2 ,   0 ]                       1\n[ 2 ,   1 ,   2 ]                       1\n[ 2 ,   1 ,   1 ,   1 ]                 1\n[ 2 ,   1 ,   1 ,   0 ]                 1\n[ 1 3 ,   1 5 ,   1 5 ,   1 9 ]         1\n[ 9 ]                                   1\ndtype: int64"
     },
     "execution_count": 71,
     "metadata": {},
     "output_type": "execute_result"
    }
   ],
   "source": [
    "pd.DataFrame([\" \".join(str(sequence)) for sequence in sequences], columns=[\"sequence\"]).value_counts()"
   ],
   "metadata": {
    "collapsed": false
   }
  },
  {
   "cell_type": "markdown",
   "source": [
    "# Success and error rates"
   ],
   "metadata": {
    "collapsed": false
   }
  },
  {
   "cell_type": "code",
   "execution_count": 107,
   "outputs": [
    {
     "name": "stdout",
     "output_type": "stream",
     "text": [
      "Reduction to 0 vulnerabilities: 41.25%\n"
     ]
    }
   ],
   "source": [
    "absolute_success = [sequence for sequence in sequences if sequence[-1] == 0]\n",
    "print(f\"Reduction to 0 vulnerabilities: {(len(absolute_success)/len(sequences))*100}%\")\n"
   ],
   "metadata": {
    "collapsed": false
   }
  },
  {
   "cell_type": "code",
   "execution_count": 100,
   "outputs": [
    {
     "name": "stdout",
     "output_type": "stream",
     "text": [
      "Reduction in number of vulnerabilities: 53.75%\n"
     ]
    }
   ],
   "source": [
    "improvement = [sequence for sequence in sequences if sequence[-1] < sequence[0]]\n",
    "print(f\"Reduction in number of vulnerabilities: {(len(improvement)/len(sequences))*100}%\")\n"
   ],
   "metadata": {
    "collapsed": false
   }
  },
  {
   "cell_type": "code",
   "execution_count": 101,
   "outputs": [
    {
     "name": "stdout",
     "output_type": "stream",
     "text": [
      "Some error (ChatGPT did not return code) 38.75%\n"
     ]
    }
   ],
   "source": [
    "fails = [sequence for sequence in sequences if len(sequence) == 1]\n",
    "print(f\"Some error (ChatGPT did not return code) {(len(fails) / len(sequences))*100}%\")"
   ],
   "metadata": {
    "collapsed": false
   }
  },
  {
   "cell_type": "code",
   "execution_count": 102,
   "outputs": [
    {
     "name": "stdout",
     "output_type": "stream",
     "text": [
      "ChatGPT worsened security 5.0%\n"
     ]
    }
   ],
   "source": [
    "worse = [sequence for sequence in sequences if sequence[-1] > sequence[0]]\n",
    "print(f\"ChatGPT worsened security {(len(worse) / len(sequences))*100}%\")"
   ],
   "metadata": {
    "collapsed": false
   }
  },
  {
   "cell_type": "code",
   "execution_count": 104,
   "outputs": [
    {
     "name": "stdout",
     "output_type": "stream",
     "text": [
      "ChatGPT had no effect 2.5%\n"
     ]
    }
   ],
   "source": [
    "nothing = [sequence for sequence in sequences if sequence[-1] == sequence[0] and len(sequence) > 1]\n",
    "print(f\"ChatGPT had no effect {(len(nothing) / len(sequences))*100}%\")"
   ],
   "metadata": {
    "collapsed": false
   }
  },
  {
   "cell_type": "code",
   "execution_count": 111,
   "outputs": [
    {
     "name": "stdout",
     "output_type": "stream",
     "text": [
      "On average it takes 2.1515151515151514 iterations to reach 0 vulnerabilities\n"
     ]
    }
   ],
   "source": [
    "iterations_to_zero = sum([len(sequence) for sequence in absolute_success])/len(absolute_success)\n",
    "print(f\"On average it takes {iterations_to_zero} iterations to reach 0 vulnerabilities\")"
   ],
   "metadata": {
    "collapsed": false
   }
  },
  {
   "cell_type": "code",
   "execution_count": null,
   "outputs": [],
   "source": [],
   "metadata": {
    "collapsed": false
   }
  }
 ],
 "metadata": {
  "kernelspec": {
   "display_name": "Python 3",
   "language": "python",
   "name": "python3"
  },
  "language_info": {
   "codemirror_mode": {
    "name": "ipython",
    "version": 2
   },
   "file_extension": ".py",
   "mimetype": "text/x-python",
   "name": "python",
   "nbconvert_exporter": "python",
   "pygments_lexer": "ipython2",
   "version": "2.7.6"
  }
 },
 "nbformat": 4,
 "nbformat_minor": 0
}
