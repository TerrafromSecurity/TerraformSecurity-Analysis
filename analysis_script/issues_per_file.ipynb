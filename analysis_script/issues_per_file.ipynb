{
 "cells": [
  {
   "cell_type": "code",
   "execution_count": 2,
   "metadata": {
    "collapsed": true
   },
   "outputs": [],
   "source": [
    "import pandas as pd\n",
    "import plotly.express as px"
   ]
  },
  {
   "cell_type": "code",
   "execution_count": 25,
   "outputs": [
    {
     "data": {
      "text/plain": "     Unnamed: 0                                               file  \\\n0             0  /Users/eliasberger/Documents/Programming/terra...   \n1             1  /Users/eliasberger/Documents/Programming/terra...   \n2             2  /Users/eliasberger/Documents/Programming/terra...   \n3             3  /Users/eliasberger/Documents/Programming/terra...   \n4             4  /Users/eliasberger/Documents/Programming/terra...   \n..          ...                                                ...   \n300         300  /Users/eliasberger/Documents/Programming/terra...   \n301         301  /Users/eliasberger/Documents/Programming/terra...   \n302         302  /Users/eliasberger/Documents/Programming/terra...   \n303         303  /Users/eliasberger/Documents/Programming/terra...   \n304         304  /Users/eliasberger/Documents/Programming/terra...   \n\n                                        rule_id  \n0    aws-ec2-require-vpc-flow-logs-for-all-vpcs  \n1    aws-ec2-require-vpc-flow-logs-for-all-vpcs  \n2    aws-ec2-require-vpc-flow-logs-for-all-vpcs  \n3    aws-ec2-require-vpc-flow-logs-for-all-vpcs  \n4    aws-ec2-require-vpc-flow-logs-for-all-vpcs  \n..                                          ...  \n300                 aws-ec2-no-public-ip-subnet  \n301  aws-ec2-require-vpc-flow-logs-for-all-vpcs  \n302  aws-ec2-require-vpc-flow-logs-for-all-vpcs  \n303                 aws-ec2-no-public-ip-subnet  \n304  aws-ec2-require-vpc-flow-logs-for-all-vpcs  \n\n[305 rows x 3 columns]",
      "text/html": "<div>\n<style scoped>\n    .dataframe tbody tr th:only-of-type {\n        vertical-align: middle;\n    }\n\n    .dataframe tbody tr th {\n        vertical-align: top;\n    }\n\n    .dataframe thead th {\n        text-align: right;\n    }\n</style>\n<table border=\"1\" class=\"dataframe\">\n  <thead>\n    <tr style=\"text-align: right;\">\n      <th></th>\n      <th>Unnamed: 0</th>\n      <th>file</th>\n      <th>rule_id</th>\n    </tr>\n  </thead>\n  <tbody>\n    <tr>\n      <th>0</th>\n      <td>0</td>\n      <td>/Users/eliasberger/Documents/Programming/terra...</td>\n      <td>aws-ec2-require-vpc-flow-logs-for-all-vpcs</td>\n    </tr>\n    <tr>\n      <th>1</th>\n      <td>1</td>\n      <td>/Users/eliasberger/Documents/Programming/terra...</td>\n      <td>aws-ec2-require-vpc-flow-logs-for-all-vpcs</td>\n    </tr>\n    <tr>\n      <th>2</th>\n      <td>2</td>\n      <td>/Users/eliasberger/Documents/Programming/terra...</td>\n      <td>aws-ec2-require-vpc-flow-logs-for-all-vpcs</td>\n    </tr>\n    <tr>\n      <th>3</th>\n      <td>3</td>\n      <td>/Users/eliasberger/Documents/Programming/terra...</td>\n      <td>aws-ec2-require-vpc-flow-logs-for-all-vpcs</td>\n    </tr>\n    <tr>\n      <th>4</th>\n      <td>4</td>\n      <td>/Users/eliasberger/Documents/Programming/terra...</td>\n      <td>aws-ec2-require-vpc-flow-logs-for-all-vpcs</td>\n    </tr>\n    <tr>\n      <th>...</th>\n      <td>...</td>\n      <td>...</td>\n      <td>...</td>\n    </tr>\n    <tr>\n      <th>300</th>\n      <td>300</td>\n      <td>/Users/eliasberger/Documents/Programming/terra...</td>\n      <td>aws-ec2-no-public-ip-subnet</td>\n    </tr>\n    <tr>\n      <th>301</th>\n      <td>301</td>\n      <td>/Users/eliasberger/Documents/Programming/terra...</td>\n      <td>aws-ec2-require-vpc-flow-logs-for-all-vpcs</td>\n    </tr>\n    <tr>\n      <th>302</th>\n      <td>302</td>\n      <td>/Users/eliasberger/Documents/Programming/terra...</td>\n      <td>aws-ec2-require-vpc-flow-logs-for-all-vpcs</td>\n    </tr>\n    <tr>\n      <th>303</th>\n      <td>303</td>\n      <td>/Users/eliasberger/Documents/Programming/terra...</td>\n      <td>aws-ec2-no-public-ip-subnet</td>\n    </tr>\n    <tr>\n      <th>304</th>\n      <td>304</td>\n      <td>/Users/eliasberger/Documents/Programming/terra...</td>\n      <td>aws-ec2-require-vpc-flow-logs-for-all-vpcs</td>\n    </tr>\n  </tbody>\n</table>\n<p>305 rows × 3 columns</p>\n</div>"
     },
     "execution_count": 25,
     "metadata": {},
     "output_type": "execute_result"
    }
   ],
   "source": [
    "# compute the mean and std dev of the number of issues per file\n",
    "# input a result file from static analysis here\n",
    "\n",
    "df = pd.read_csv(\"../data/security_smells_AWS_ChatGPT.csv\")\n",
    "df"
   ],
   "metadata": {
    "collapsed": false
   }
  },
  {
   "cell_type": "code",
   "execution_count": 26,
   "outputs": [
    {
     "name": "stderr",
     "output_type": "stream",
     "text": [
      "/var/folders/bq/l2q_cb9j6bj21nlxmzykz44r0000gn/T/ipykernel_62150/407890251.py:5: FutureWarning: The default value of numeric_only in DataFrameGroupBy.sum is deprecated. In a future version, numeric_only will default to False. Either specify numeric_only or select only columns which should be valid for the function.\n",
      "  df = df.groupby([\"file\"]).sum().reset_index()\n"
     ]
    },
    {
     "data": {
      "text/plain": "                                                  file  Unnamed: 0  issues\n0    /Users/eliasberger/Documents/Programming/terra...        2535      13\n1    /Users/eliasberger/Documents/Programming/terra...        2874      12\n2    /Users/eliasberger/Documents/Programming/terra...        1770      12\n3    /Users/eliasberger/Documents/Programming/terra...        1914      12\n4    /Users/eliasberger/Documents/Programming/terra...        1881      11\n..                                                 ...         ...     ...\n125  /Users/eliasberger/Documents/Programming/terra...         256       1\n126  /Users/eliasberger/Documents/Programming/terra...         262       1\n127  /Users/eliasberger/Documents/Programming/terra...         263       1\n128  /Users/eliasberger/Documents/Programming/terra...         260       1\n129  /Users/eliasberger/Documents/Programming/terra...         264       1\n\n[130 rows x 3 columns]",
      "text/html": "<div>\n<style scoped>\n    .dataframe tbody tr th:only-of-type {\n        vertical-align: middle;\n    }\n\n    .dataframe tbody tr th {\n        vertical-align: top;\n    }\n\n    .dataframe thead th {\n        text-align: right;\n    }\n</style>\n<table border=\"1\" class=\"dataframe\">\n  <thead>\n    <tr style=\"text-align: right;\">\n      <th></th>\n      <th>file</th>\n      <th>Unnamed: 0</th>\n      <th>issues</th>\n    </tr>\n  </thead>\n  <tbody>\n    <tr>\n      <th>0</th>\n      <td>/Users/eliasberger/Documents/Programming/terra...</td>\n      <td>2535</td>\n      <td>13</td>\n    </tr>\n    <tr>\n      <th>1</th>\n      <td>/Users/eliasberger/Documents/Programming/terra...</td>\n      <td>2874</td>\n      <td>12</td>\n    </tr>\n    <tr>\n      <th>2</th>\n      <td>/Users/eliasberger/Documents/Programming/terra...</td>\n      <td>1770</td>\n      <td>12</td>\n    </tr>\n    <tr>\n      <th>3</th>\n      <td>/Users/eliasberger/Documents/Programming/terra...</td>\n      <td>1914</td>\n      <td>12</td>\n    </tr>\n    <tr>\n      <th>4</th>\n      <td>/Users/eliasberger/Documents/Programming/terra...</td>\n      <td>1881</td>\n      <td>11</td>\n    </tr>\n    <tr>\n      <th>...</th>\n      <td>...</td>\n      <td>...</td>\n      <td>...</td>\n    </tr>\n    <tr>\n      <th>125</th>\n      <td>/Users/eliasberger/Documents/Programming/terra...</td>\n      <td>256</td>\n      <td>1</td>\n    </tr>\n    <tr>\n      <th>126</th>\n      <td>/Users/eliasberger/Documents/Programming/terra...</td>\n      <td>262</td>\n      <td>1</td>\n    </tr>\n    <tr>\n      <th>127</th>\n      <td>/Users/eliasberger/Documents/Programming/terra...</td>\n      <td>263</td>\n      <td>1</td>\n    </tr>\n    <tr>\n      <th>128</th>\n      <td>/Users/eliasberger/Documents/Programming/terra...</td>\n      <td>260</td>\n      <td>1</td>\n    </tr>\n    <tr>\n      <th>129</th>\n      <td>/Users/eliasberger/Documents/Programming/terra...</td>\n      <td>264</td>\n      <td>1</td>\n    </tr>\n  </tbody>\n</table>\n<p>130 rows × 3 columns</p>\n</div>"
     },
     "execution_count": 26,
     "metadata": {},
     "output_type": "execute_result"
    }
   ],
   "source": [
    "df[\"issues\"] = 1\n",
    "number_of_issues = len(df)\n",
    "# don't consider files were scan has failed\n",
    "df = df[~df[\"rule_id\"].str.contains(\"SCAN_FAILED\")]\n",
    "df = df.groupby([\"file\"]).sum().reset_index()\n",
    "df"
   ],
   "metadata": {
    "collapsed": false
   }
  },
  {
   "cell_type": "code",
   "execution_count": 27,
   "outputs": [
    {
     "data": {
      "text/plain": "(2.3461538461538463, 2.85763370006458)"
     },
     "execution_count": 27,
     "metadata": {},
     "output_type": "execute_result"
    }
   ],
   "source": [
    "mu = df[\"issues\"].mean()\n",
    "std_deviation = df[\"issues\"].std()\n",
    "mu, std_deviation"
   ],
   "metadata": {
    "collapsed": false
   }
  },
  {
   "cell_type": "code",
   "execution_count": null,
   "outputs": [],
   "source": [
    "df.to_csv(\"../data/security_smells_AWS_Optimized_ChatGPT_issues_per_file.csv\")\n",
    "\n",
    "\n",
    "print(\"mean\", mu)\n",
    "print(\"std_deviation\", std_deviation)\n",
    "\n",
    "px.histogram(df, x=\"issues\")"
   ],
   "metadata": {
    "collapsed": false
   }
  }
 ],
 "metadata": {
  "kernelspec": {
   "display_name": "Python 3",
   "language": "python",
   "name": "python3"
  },
  "language_info": {
   "codemirror_mode": {
    "name": "ipython",
    "version": 2
   },
   "file_extension": ".py",
   "mimetype": "text/x-python",
   "name": "python",
   "nbconvert_exporter": "python",
   "pygments_lexer": "ipython2",
   "version": "2.7.6"
  }
 },
 "nbformat": 4,
 "nbformat_minor": 0
}
